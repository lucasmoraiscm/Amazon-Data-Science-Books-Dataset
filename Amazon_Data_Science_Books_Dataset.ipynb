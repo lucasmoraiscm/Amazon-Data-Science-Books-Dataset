{
  "nbformat": 4,
  "nbformat_minor": 0,
  "metadata": {
    "colab": {
      "provenance": []
    },
    "kernelspec": {
      "name": "python3",
      "display_name": "Python 3"
    },
    "language_info": {
      "name": "python"
    }
  },
  "cells": [
    {
      "cell_type": "markdown",
      "source": [
        "![lopo_ifpi](data:image/png;base64,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)\n",
        "## <font color=green> PROJETO FINAL TEDS - GRUPO D#\n",
        "---\n",
        "\n",
        "**AMAZON DATA SCIENCE BOOKS DATASET**\n",
        "\n",
        "   \n",
        "O conjunto de dados contém livros obtidos da extração de livros da Amazon relacionados a ciência de dados, estatística, análise de dados, Python, aprendizado profundo e aprendizado de máquina.\n",
        "\n",
        "https://www.kaggle.com/datasets/die9origephit/amazon-data-science-books\n"
      ],
      "metadata": {
        "id": "gkJodESHnmU5"
      }
    },
    {
      "cell_type": "markdown",
      "source": [
        "**COMPONENTES**\n",
        "\n",
        "* Dennis Alencar Brito Barbosa\n",
        "* Lucas Morais Campelo Marques\n",
        "* Lucas Moura Ribeiro\n",
        "* Magno Vital da Silva Lira\n",
        "* Ray Nogueira Leal\n",
        "* Romulo Constantino Sousa Silva\n",
        "\n",
        "---\n"
      ],
      "metadata": {
        "id": "nn3LU1XR3pCc"
      }
    },
    {
      "cell_type": "markdown",
      "source": [
        "#INTRODUÇÃO#\n",
        "---"
      ],
      "metadata": {
        "id": "ndZ6VdTF7iU2"
      }
    },
    {
      "cell_type": "markdown",
      "source": [
        "BIBLIOTECAS"
      ],
      "metadata": {
        "id": "pGyDNyCkct6M"
      }
    },
    {
      "cell_type": "code",
      "execution_count": null,
      "metadata": {
        "id": "TEWt8qeFMYvT"
      },
      "outputs": [],
      "source": [
        "import numpy as np\n",
        "import pandas as pd\n",
        "import statistics as sts\n",
        "import matplotlib.pyplot as plt\n",
        "%matplotlib inline\n",
        "import seaborn as sns\n",
        "import plotly.express as px\n",
        "import sklearn.metrics as metrics\n",
        "from sklearn.linear_model import LinearRegression\n",
        "from sklearn.model_selection import train_test_split"
      ]
    },
    {
      "cell_type": "markdown",
      "source": [
        "DATAFRAME"
      ],
      "metadata": {
        "id": "qsBDzgU4cxd7"
      }
    },
    {
      "cell_type": "code",
      "source": [
        "data = pd.read_csv('/content/drive/MyDrive/Colab Notebooks/IFPI/FINAL PROJECT/final_book_dataset_kaggle.csv')\n",
        "data"
      ],
      "metadata": {
        "colab": {
          "base_uri": "https://localhost:8080/",
          "height": 1000
        },
        "id": "P9YH8fwZMnVV",
        "outputId": "fb96fb37-4e2f-4101-c838-7b71ddd9df57"
      },
      "execution_count": null,
      "outputs": [
        {
          "output_type": "execute_result",
          "data": {
            "text/plain": [
              "                                                 title  \\\n",
              "0    Becoming a Data Head: How to Think Speak and U...   \n",
              "1    Ace the Data Science Interview: 201 Real Inter...   \n",
              "2    Fundamentals of Data Engineering: Plan and Bui...   \n",
              "3    Essential Math for Data Science: Take Control ...   \n",
              "4    Data Science for Business: What You Need to Kn...   \n",
              "..                                                 ...   \n",
              "941  The Book of R: A First Course in Programming a...   \n",
              "942  Basic Business Statistics: A Casebook (Textboo...   \n",
              "943         Elementary Statistics: Picturing the World   \n",
              "944  Making Sense of Statistics: A Conceptual Overview   \n",
              "945                  Psychology Statistics For Dummies   \n",
              "\n",
              "                                      author   price  pages  avg_reviews  \\\n",
              "0          [Alex J. Gutman,Jordan Goldmeier]   24.49  272.0          4.6   \n",
              "1                     [Nick Singh,Kevin Huo]   26.00  301.0          4.5   \n",
              "2                    [Joe Reis,Matt Housley]   50.76  446.0          5.0   \n",
              "3                             [Thomas Nield]   44.80  347.0          4.5   \n",
              "4               [Foster Provost,Tom Fawcett]   36.99  413.0          4.5   \n",
              "..                                       ...     ...    ...          ...   \n",
              "941                       [Tilman M. Davies]   28.33  832.0          4.6   \n",
              "942  [Dean P. Foster,Robert A. Stine et al.]   59.23  260.0          4.3   \n",
              "943                [Ron Larson,Betsy Farber]  129.99  704.0          4.5   \n",
              "944             [Fred Pyrczak,Deborah M. Oh]   47.76  252.0          4.6   \n",
              "945          [Donncha Hanna,Martin Dempster]   15.55  464.0          4.5   \n",
              "\n",
              "     n_reviews  star5  star4  star3  star2  star1                 dimensions  \\\n",
              "0          184   0.74   0.18   0.05   0.02   0.01        6 x 0.62 x 9 inches   \n",
              "1          599   0.77   0.10   0.06   0.03   0.04       7 x 0.68 x 10 inches   \n",
              "2           33   0.96   0.04   0.00   0.00   0.00        7 x 1 x 9.25 inches   \n",
              "3           27   0.79   0.05   0.05   0.05   0.05        7 x 0.75 x 9 inches   \n",
              "4          970   0.71   0.15   0.08   0.03   0.03      7 x 0.9 x 9.19 inches   \n",
              "..         ...    ...    ...    ...    ...    ...                        ...   \n",
              "941        327   0.74   0.16   0.06   0.02   0.03     7 x 1.44 x 9.25 inches   \n",
              "942          6   0.70   0.11   0.19   0.00   0.00  8.27 x 0.6 x 11.02 inches   \n",
              "943       1025   0.72   0.14   0.07   0.01   0.05      8.5 x 1.1 x 11 inches   \n",
              "944        145   0.78   0.13   0.04   0.02   0.04     8.5 x 0.57 x 11 inches   \n",
              "945        787   0.69   0.18   0.08   0.03   0.03       7.4 x 1 x 9.3 inches   \n",
              "\n",
              "          weight language                                          publisher  \\\n",
              "0    12.5 ounces  English                 Wiley; 1st edition (April 23 2021)   \n",
              "1    1.28 pounds  English    Ace the Data Science Interview (August 16 2021)   \n",
              "2    1.57 pounds  English          OReilly Media; 1st edition (July 26 2022)   \n",
              "3    1.23 pounds  English           OReilly Media; 1st edition (July 5 2022)   \n",
              "4     1.5 pounds  English     OReilly Media; 1st edition (September 17 2013)   \n",
              "..           ...      ...                                                ...   \n",
              "941  2.95 pounds  English        No Starch Press; 1st edition (July 16 2016)   \n",
              "942  2.93 pounds  English  Springer; 1st ed. 1998. 4th printing 2001 edit...   \n",
              "943  3.48 pounds  English              Pearson; 7th edition (January 3 2018)   \n",
              "944  1.12 pounds  English              Routledge; 7th edition (June 18 2018)   \n",
              "945  1.86 pounds  English         For Dummies; 1st edition (January 29 2013)   \n",
              "\n",
              "            ISBN_13                                               link  \\\n",
              "0    978-1119741749  /Becoming-Data-Head-Understand-Statistics/dp/1...   \n",
              "1    978-0578973838  /Ace-Data-Science-Interview-Questions/dp/05789...   \n",
              "2    978-1098108304  /Fundamentals-Data-Engineering-Robust-Systems/...   \n",
              "3    978-1098102937  /Essential-Math-Data-Science-Fundamental/dp/10...   \n",
              "4    978-1449361327  /Data-Science-Business-Data-Analytic-Thinking/...   \n",
              "..              ...                                                ...   \n",
              "941  978-1593276515  /Book-First-Course-Programming-Statistics/dp/1...   \n",
              "942  978-0387983547  /gp/slredirect/picassoRedirect.html/ref=pa_sp_...   \n",
              "943  978-0134683416  /Elementary-Statistics-Picturing-World-7th/dp/...   \n",
              "944  978-1138894761  /Making-Sense-Statistics-Fred-Pyrczak/dp/11388...   \n",
              "945  978-1119952879  /Psychology-Statistics-Dummies-Donncha-Hanna/d...   \n",
              "\n",
              "                                         complete_link  \n",
              "0    https://www.amazon.com/Becoming-Data-Head-Unde...  \n",
              "1    https://www.amazon.com/Ace-Data-Science-Interv...  \n",
              "2    https://www.amazon.com/Fundamentals-Data-Engin...  \n",
              "3    https://www.amazon.com/Essential-Math-Data-Sci...  \n",
              "4    https://www.amazon.com/Data-Science-Business-D...  \n",
              "..                                                 ...  \n",
              "941  https://www.amazon.com/Book-First-Course-Progr...  \n",
              "942  https://www.amazon.com/gp/slredirect/picassoRe...  \n",
              "943  https://www.amazon.com/Elementary-Statistics-P...  \n",
              "944  https://www.amazon.com/Making-Sense-Statistics...  \n",
              "945  https://www.amazon.com/Psychology-Statistics-D...  \n",
              "\n",
              "[946 rows x 18 columns]"
            ],
            "text/html": [
              "\n",
              "  <div id=\"df-4a1ba47f-9fdf-4195-a579-52414019583d\">\n",
              "    <div class=\"colab-df-container\">\n",
              "      <div>\n",
              "<style scoped>\n",
              "    .dataframe tbody tr th:only-of-type {\n",
              "        vertical-align: middle;\n",
              "    }\n",
              "\n",
              "    .dataframe tbody tr th {\n",
              "        vertical-align: top;\n",
              "    }\n",
              "\n",
              "    .dataframe thead th {\n",
              "        text-align: right;\n",
              "    }\n",
              "</style>\n",
              "<table border=\"1\" class=\"dataframe\">\n",
              "  <thead>\n",
              "    <tr style=\"text-align: right;\">\n",
              "      <th></th>\n",
              "      <th>title</th>\n",
              "      <th>author</th>\n",
              "      <th>price</th>\n",
              "      <th>pages</th>\n",
              "      <th>avg_reviews</th>\n",
              "      <th>n_reviews</th>\n",
              "      <th>star5</th>\n",
              "      <th>star4</th>\n",
              "      <th>star3</th>\n",
              "      <th>star2</th>\n",
              "      <th>star1</th>\n",
              "      <th>dimensions</th>\n",
              "      <th>weight</th>\n",
              "      <th>language</th>\n",
              "      <th>publisher</th>\n",
              "      <th>ISBN_13</th>\n",
              "      <th>link</th>\n",
              "      <th>complete_link</th>\n",
              "    </tr>\n",
              "  </thead>\n",
              "  <tbody>\n",
              "    <tr>\n",
              "      <th>0</th>\n",
              "      <td>Becoming a Data Head: How to Think Speak and U...</td>\n",
              "      <td>[Alex J. Gutman,Jordan Goldmeier]</td>\n",
              "      <td>24.49</td>\n",
              "      <td>272.0</td>\n",
              "      <td>4.6</td>\n",
              "      <td>184</td>\n",
              "      <td>0.74</td>\n",
              "      <td>0.18</td>\n",
              "      <td>0.05</td>\n",
              "      <td>0.02</td>\n",
              "      <td>0.01</td>\n",
              "      <td>6 x 0.62 x 9 inches</td>\n",
              "      <td>12.5 ounces</td>\n",
              "      <td>English</td>\n",
              "      <td>Wiley; 1st edition (April 23 2021)</td>\n",
              "      <td>978-1119741749</td>\n",
              "      <td>/Becoming-Data-Head-Understand-Statistics/dp/1...</td>\n",
              "      <td>https://www.amazon.com/Becoming-Data-Head-Unde...</td>\n",
              "    </tr>\n",
              "    <tr>\n",
              "      <th>1</th>\n",
              "      <td>Ace the Data Science Interview: 201 Real Inter...</td>\n",
              "      <td>[Nick Singh,Kevin Huo]</td>\n",
              "      <td>26.00</td>\n",
              "      <td>301.0</td>\n",
              "      <td>4.5</td>\n",
              "      <td>599</td>\n",
              "      <td>0.77</td>\n",
              "      <td>0.10</td>\n",
              "      <td>0.06</td>\n",
              "      <td>0.03</td>\n",
              "      <td>0.04</td>\n",
              "      <td>7 x 0.68 x 10 inches</td>\n",
              "      <td>1.28 pounds</td>\n",
              "      <td>English</td>\n",
              "      <td>Ace the Data Science Interview (August 16 2021)</td>\n",
              "      <td>978-0578973838</td>\n",
              "      <td>/Ace-Data-Science-Interview-Questions/dp/05789...</td>\n",
              "      <td>https://www.amazon.com/Ace-Data-Science-Interv...</td>\n",
              "    </tr>\n",
              "    <tr>\n",
              "      <th>2</th>\n",
              "      <td>Fundamentals of Data Engineering: Plan and Bui...</td>\n",
              "      <td>[Joe Reis,Matt Housley]</td>\n",
              "      <td>50.76</td>\n",
              "      <td>446.0</td>\n",
              "      <td>5.0</td>\n",
              "      <td>33</td>\n",
              "      <td>0.96</td>\n",
              "      <td>0.04</td>\n",
              "      <td>0.00</td>\n",
              "      <td>0.00</td>\n",
              "      <td>0.00</td>\n",
              "      <td>7 x 1 x 9.25 inches</td>\n",
              "      <td>1.57 pounds</td>\n",
              "      <td>English</td>\n",
              "      <td>OReilly Media; 1st edition (July 26 2022)</td>\n",
              "      <td>978-1098108304</td>\n",
              "      <td>/Fundamentals-Data-Engineering-Robust-Systems/...</td>\n",
              "      <td>https://www.amazon.com/Fundamentals-Data-Engin...</td>\n",
              "    </tr>\n",
              "    <tr>\n",
              "      <th>3</th>\n",
              "      <td>Essential Math for Data Science: Take Control ...</td>\n",
              "      <td>[Thomas Nield]</td>\n",
              "      <td>44.80</td>\n",
              "      <td>347.0</td>\n",
              "      <td>4.5</td>\n",
              "      <td>27</td>\n",
              "      <td>0.79</td>\n",
              "      <td>0.05</td>\n",
              "      <td>0.05</td>\n",
              "      <td>0.05</td>\n",
              "      <td>0.05</td>\n",
              "      <td>7 x 0.75 x 9 inches</td>\n",
              "      <td>1.23 pounds</td>\n",
              "      <td>English</td>\n",
              "      <td>OReilly Media; 1st edition (July 5 2022)</td>\n",
              "      <td>978-1098102937</td>\n",
              "      <td>/Essential-Math-Data-Science-Fundamental/dp/10...</td>\n",
              "      <td>https://www.amazon.com/Essential-Math-Data-Sci...</td>\n",
              "    </tr>\n",
              "    <tr>\n",
              "      <th>4</th>\n",
              "      <td>Data Science for Business: What You Need to Kn...</td>\n",
              "      <td>[Foster Provost,Tom Fawcett]</td>\n",
              "      <td>36.99</td>\n",
              "      <td>413.0</td>\n",
              "      <td>4.5</td>\n",
              "      <td>970</td>\n",
              "      <td>0.71</td>\n",
              "      <td>0.15</td>\n",
              "      <td>0.08</td>\n",
              "      <td>0.03</td>\n",
              "      <td>0.03</td>\n",
              "      <td>7 x 0.9 x 9.19 inches</td>\n",
              "      <td>1.5 pounds</td>\n",
              "      <td>English</td>\n",
              "      <td>OReilly Media; 1st edition (September 17 2013)</td>\n",
              "      <td>978-1449361327</td>\n",
              "      <td>/Data-Science-Business-Data-Analytic-Thinking/...</td>\n",
              "      <td>https://www.amazon.com/Data-Science-Business-D...</td>\n",
              "    </tr>\n",
              "    <tr>\n",
              "      <th>...</th>\n",
              "      <td>...</td>\n",
              "      <td>...</td>\n",
              "      <td>...</td>\n",
              "      <td>...</td>\n",
              "      <td>...</td>\n",
              "      <td>...</td>\n",
              "      <td>...</td>\n",
              "      <td>...</td>\n",
              "      <td>...</td>\n",
              "      <td>...</td>\n",
              "      <td>...</td>\n",
              "      <td>...</td>\n",
              "      <td>...</td>\n",
              "      <td>...</td>\n",
              "      <td>...</td>\n",
              "      <td>...</td>\n",
              "      <td>...</td>\n",
              "      <td>...</td>\n",
              "    </tr>\n",
              "    <tr>\n",
              "      <th>941</th>\n",
              "      <td>The Book of R: A First Course in Programming a...</td>\n",
              "      <td>[Tilman M. Davies]</td>\n",
              "      <td>28.33</td>\n",
              "      <td>832.0</td>\n",
              "      <td>4.6</td>\n",
              "      <td>327</td>\n",
              "      <td>0.74</td>\n",
              "      <td>0.16</td>\n",
              "      <td>0.06</td>\n",
              "      <td>0.02</td>\n",
              "      <td>0.03</td>\n",
              "      <td>7 x 1.44 x 9.25 inches</td>\n",
              "      <td>2.95 pounds</td>\n",
              "      <td>English</td>\n",
              "      <td>No Starch Press; 1st edition (July 16 2016)</td>\n",
              "      <td>978-1593276515</td>\n",
              "      <td>/Book-First-Course-Programming-Statistics/dp/1...</td>\n",
              "      <td>https://www.amazon.com/Book-First-Course-Progr...</td>\n",
              "    </tr>\n",
              "    <tr>\n",
              "      <th>942</th>\n",
              "      <td>Basic Business Statistics: A Casebook (Textboo...</td>\n",
              "      <td>[Dean P. Foster,Robert A. Stine et al.]</td>\n",
              "      <td>59.23</td>\n",
              "      <td>260.0</td>\n",
              "      <td>4.3</td>\n",
              "      <td>6</td>\n",
              "      <td>0.70</td>\n",
              "      <td>0.11</td>\n",
              "      <td>0.19</td>\n",
              "      <td>0.00</td>\n",
              "      <td>0.00</td>\n",
              "      <td>8.27 x 0.6 x 11.02 inches</td>\n",
              "      <td>2.93 pounds</td>\n",
              "      <td>English</td>\n",
              "      <td>Springer; 1st ed. 1998. 4th printing 2001 edit...</td>\n",
              "      <td>978-0387983547</td>\n",
              "      <td>/gp/slredirect/picassoRedirect.html/ref=pa_sp_...</td>\n",
              "      <td>https://www.amazon.com/gp/slredirect/picassoRe...</td>\n",
              "    </tr>\n",
              "    <tr>\n",
              "      <th>943</th>\n",
              "      <td>Elementary Statistics: Picturing the World</td>\n",
              "      <td>[Ron Larson,Betsy Farber]</td>\n",
              "      <td>129.99</td>\n",
              "      <td>704.0</td>\n",
              "      <td>4.5</td>\n",
              "      <td>1025</td>\n",
              "      <td>0.72</td>\n",
              "      <td>0.14</td>\n",
              "      <td>0.07</td>\n",
              "      <td>0.01</td>\n",
              "      <td>0.05</td>\n",
              "      <td>8.5 x 1.1 x 11 inches</td>\n",
              "      <td>3.48 pounds</td>\n",
              "      <td>English</td>\n",
              "      <td>Pearson; 7th edition (January 3 2018)</td>\n",
              "      <td>978-0134683416</td>\n",
              "      <td>/Elementary-Statistics-Picturing-World-7th/dp/...</td>\n",
              "      <td>https://www.amazon.com/Elementary-Statistics-P...</td>\n",
              "    </tr>\n",
              "    <tr>\n",
              "      <th>944</th>\n",
              "      <td>Making Sense of Statistics: A Conceptual Overview</td>\n",
              "      <td>[Fred Pyrczak,Deborah M. Oh]</td>\n",
              "      <td>47.76</td>\n",
              "      <td>252.0</td>\n",
              "      <td>4.6</td>\n",
              "      <td>145</td>\n",
              "      <td>0.78</td>\n",
              "      <td>0.13</td>\n",
              "      <td>0.04</td>\n",
              "      <td>0.02</td>\n",
              "      <td>0.04</td>\n",
              "      <td>8.5 x 0.57 x 11 inches</td>\n",
              "      <td>1.12 pounds</td>\n",
              "      <td>English</td>\n",
              "      <td>Routledge; 7th edition (June 18 2018)</td>\n",
              "      <td>978-1138894761</td>\n",
              "      <td>/Making-Sense-Statistics-Fred-Pyrczak/dp/11388...</td>\n",
              "      <td>https://www.amazon.com/Making-Sense-Statistics...</td>\n",
              "    </tr>\n",
              "    <tr>\n",
              "      <th>945</th>\n",
              "      <td>Psychology Statistics For Dummies</td>\n",
              "      <td>[Donncha Hanna,Martin Dempster]</td>\n",
              "      <td>15.55</td>\n",
              "      <td>464.0</td>\n",
              "      <td>4.5</td>\n",
              "      <td>787</td>\n",
              "      <td>0.69</td>\n",
              "      <td>0.18</td>\n",
              "      <td>0.08</td>\n",
              "      <td>0.03</td>\n",
              "      <td>0.03</td>\n",
              "      <td>7.4 x 1 x 9.3 inches</td>\n",
              "      <td>1.86 pounds</td>\n",
              "      <td>English</td>\n",
              "      <td>For Dummies; 1st edition (January 29 2013)</td>\n",
              "      <td>978-1119952879</td>\n",
              "      <td>/Psychology-Statistics-Dummies-Donncha-Hanna/d...</td>\n",
              "      <td>https://www.amazon.com/Psychology-Statistics-D...</td>\n",
              "    </tr>\n",
              "  </tbody>\n",
              "</table>\n",
              "<p>946 rows × 18 columns</p>\n",
              "</div>\n",
              "      <button class=\"colab-df-convert\" onclick=\"convertToInteractive('df-4a1ba47f-9fdf-4195-a579-52414019583d')\"\n",
              "              title=\"Convert this dataframe to an interactive table.\"\n",
              "              style=\"display:none;\">\n",
              "        \n",
              "  <svg xmlns=\"http://www.w3.org/2000/svg\" height=\"24px\"viewBox=\"0 0 24 24\"\n",
              "       width=\"24px\">\n",
              "    <path d=\"M0 0h24v24H0V0z\" fill=\"none\"/>\n",
              "    <path d=\"M18.56 5.44l.94 2.06.94-2.06 2.06-.94-2.06-.94-.94-2.06-.94 2.06-2.06.94zm-11 1L8.5 8.5l.94-2.06 2.06-.94-2.06-.94L8.5 2.5l-.94 2.06-2.06.94zm10 10l.94 2.06.94-2.06 2.06-.94-2.06-.94-.94-2.06-.94 2.06-2.06.94z\"/><path d=\"M17.41 7.96l-1.37-1.37c-.4-.4-.92-.59-1.43-.59-.52 0-1.04.2-1.43.59L10.3 9.45l-7.72 7.72c-.78.78-.78 2.05 0 2.83L4 21.41c.39.39.9.59 1.41.59.51 0 1.02-.2 1.41-.59l7.78-7.78 2.81-2.81c.8-.78.8-2.07 0-2.86zM5.41 20L4 18.59l7.72-7.72 1.47 1.35L5.41 20z\"/>\n",
              "  </svg>\n",
              "      </button>\n",
              "      \n",
              "  <style>\n",
              "    .colab-df-container {\n",
              "      display:flex;\n",
              "      flex-wrap:wrap;\n",
              "      gap: 12px;\n",
              "    }\n",
              "\n",
              "    .colab-df-convert {\n",
              "      background-color: #E8F0FE;\n",
              "      border: none;\n",
              "      border-radius: 50%;\n",
              "      cursor: pointer;\n",
              "      display: none;\n",
              "      fill: #1967D2;\n",
              "      height: 32px;\n",
              "      padding: 0 0 0 0;\n",
              "      width: 32px;\n",
              "    }\n",
              "\n",
              "    .colab-df-convert:hover {\n",
              "      background-color: #E2EBFA;\n",
              "      box-shadow: 0px 1px 2px rgba(60, 64, 67, 0.3), 0px 1px 3px 1px rgba(60, 64, 67, 0.15);\n",
              "      fill: #174EA6;\n",
              "    }\n",
              "\n",
              "    [theme=dark] .colab-df-convert {\n",
              "      background-color: #3B4455;\n",
              "      fill: #D2E3FC;\n",
              "    }\n",
              "\n",
              "    [theme=dark] .colab-df-convert:hover {\n",
              "      background-color: #434B5C;\n",
              "      box-shadow: 0px 1px 3px 1px rgba(0, 0, 0, 0.15);\n",
              "      filter: drop-shadow(0px 1px 2px rgba(0, 0, 0, 0.3));\n",
              "      fill: #FFFFFF;\n",
              "    }\n",
              "  </style>\n",
              "\n",
              "      <script>\n",
              "        const buttonEl =\n",
              "          document.querySelector('#df-4a1ba47f-9fdf-4195-a579-52414019583d button.colab-df-convert');\n",
              "        buttonEl.style.display =\n",
              "          google.colab.kernel.accessAllowed ? 'block' : 'none';\n",
              "\n",
              "        async function convertToInteractive(key) {\n",
              "          const element = document.querySelector('#df-4a1ba47f-9fdf-4195-a579-52414019583d');\n",
              "          const dataTable =\n",
              "            await google.colab.kernel.invokeFunction('convertToInteractive',\n",
              "                                                     [key], {});\n",
              "          if (!dataTable) return;\n",
              "\n",
              "          const docLinkHtml = 'Like what you see? Visit the ' +\n",
              "            '<a target=\"_blank\" href=https://colab.research.google.com/notebooks/data_table.ipynb>data table notebook</a>'\n",
              "            + ' to learn more about interactive tables.';\n",
              "          element.innerHTML = '';\n",
              "          dataTable['output_type'] = 'display_data';\n",
              "          await google.colab.output.renderOutput(dataTable, element);\n",
              "          const docLink = document.createElement('div');\n",
              "          docLink.innerHTML = docLinkHtml;\n",
              "          element.appendChild(docLink);\n",
              "        }\n",
              "      </script>\n",
              "    </div>\n",
              "  </div>\n",
              "  "
            ]
          },
          "metadata": {},
          "execution_count": 2
        }
      ]
    },
    {
      "cell_type": "markdown",
      "source": [
        "COMPOSIÇÃO DO DATAFRAME"
      ],
      "metadata": {
        "id": "7qgJrTBT77tm"
      }
    },
    {
      "cell_type": "code",
      "source": [
        "data.shape"
      ],
      "metadata": {
        "colab": {
          "base_uri": "https://localhost:8080/"
        },
        "id": "YBqmIN4YNXcb",
        "outputId": "5330a2f0-e102-4645-c75f-0208843ce6a4"
      },
      "execution_count": null,
      "outputs": [
        {
          "output_type": "execute_result",
          "data": {
            "text/plain": [
              "(946, 18)"
            ]
          },
          "metadata": {},
          "execution_count": 3
        }
      ]
    },
    {
      "cell_type": "markdown",
      "source": [
        "CÓPIA DO DATAFRAME"
      ],
      "metadata": {
        "id": "nDrcEuKB8cMU"
      }
    },
    {
      "cell_type": "code",
      "source": [
        "new_data = data.copy()"
      ],
      "metadata": {
        "id": "U1qUWbDeV0Z3"
      },
      "execution_count": null,
      "outputs": []
    },
    {
      "cell_type": "markdown",
      "source": [
        "#1.0 LIVROS COM MAIS REVIEWS#\n",
        "---"
      ],
      "metadata": {
        "id": "HSilW-SjoPte"
      }
    },
    {
      "cell_type": "code",
      "source": [
        "datalargest = data['n_reviews'].nlargest(10).astype(int).sort_index()\n",
        "ten_most_reviewed_books = data[data['n_reviews'] >= datalargest.min()]"
      ],
      "metadata": {
        "id": "ogI78KaJVKBf"
      },
      "execution_count": null,
      "outputs": []
    },
    {
      "cell_type": "code",
      "source": [
        "fig = px.bar(ten_most_reviewed_books, x='title', y='avg_reviews' ,log_y=True)\n",
        "fig.update_layout(\n",
        "    width = 800,\n",
        "    height = 1640,\n",
        "    title = \"Dez livros com mais reviews: Média Reviews\"\n",
        ")\n",
        "fig.show()"
      ],
      "metadata": {
        "colab": {
          "base_uri": "https://localhost:8080/",
          "height": 1000
        },
        "id": "eWnhxyrCVKR-",
        "outputId": "14af6bc2-dfe2-4bd6-ba84-d64ced4b2d0e"
      },
      "execution_count": null,
      "outputs": [
        {
          "output_type": "display_data",
          "data": {
            "text/html": [
              "<html>\n",
              "<head><meta charset=\"utf-8\" /></head>\n",
              "<body>\n",
              "    <div>            <script src=\"https://cdnjs.cloudflare.com/ajax/libs/mathjax/2.7.5/MathJax.js?config=TeX-AMS-MML_SVG\"></script><script type=\"text/javascript\">if (window.MathJax) {MathJax.Hub.Config({SVG: {font: \"STIX-Web\"}});}</script>                <script type=\"text/javascript\">window.PlotlyConfig = {MathJaxConfig: 'local'};</script>\n",
              "        <script src=\"https://cdn.plot.ly/plotly-2.8.3.min.js\"></script>                <div id=\"0aac2da6-1dcc-445f-b2a6-da7377376367\" class=\"plotly-graph-div\" style=\"height:1640px; width:800px;\"></div>            <script type=\"text/javascript\">                                    window.PLOTLYENV=window.PLOTLYENV || {};                                    if (document.getElementById(\"0aac2da6-1dcc-445f-b2a6-da7377376367\")) {                    Plotly.newPlot(                        \"0aac2da6-1dcc-445f-b2a6-da7377376367\",                        [{\"alignmentgroup\":\"True\",\"hovertemplate\":\"title=%{x}<br>avg_reviews=%{y}<extra></extra>\",\"legendgroup\":\"\",\"marker\":{\"color\":\"#636efa\",\"pattern\":{\"shape\":\"\"}},\"name\":\"\",\"offsetgroup\":\"\",\"orientation\":\"v\",\"showlegend\":false,\"textposition\":\"auto\",\"x\":[\"The Art of Statistics: How to Learn from Data\",\"Designing Data-Intensive Applications: The Big Ideas Behind Reliable Scalable and Maintainable Systems\",\"Python Crash Course 2nd Edition: A Hands-On Project-Based Introduction to Programming\",\"Cracking the Coding Interview: 189 Programming Questions and Solutions\",\"Storytelling with Data: A Data Visualization Guide for Business Professionals\",\"Python for Everybody: Exploring Data in Python 3\",\"Python: - The Bible- 3 Manuscripts in 1 book: -Python Programming For Beginners -Python Programming For Intermediates -Python Programming for Advanced (Your place to learn Python with ease)\",\"Clean Code: A Handbook of Agile Software Craftsmanship\",\"Python: For Beginners: A Crash Course Guide To Learn Python in 1 Week\",\"Automate the Boring Stuff with Python 2nd Edition: Practical Programming for Total Beginners\"],\"xaxis\":\"x\",\"y\":[4.6,4.8,4.7,4.7,4.6,4.6,4.3,4.7,4.3,4.7],\"yaxis\":\"y\",\"type\":\"bar\"}],                        {\"template\":{\"data\":{\"bar\":[{\"error_x\":{\"color\":\"#2a3f5f\"},\"error_y\":{\"color\":\"#2a3f5f\"},\"marker\":{\"line\":{\"color\":\"#E5ECF6\",\"width\":0.5},\"pattern\":{\"fillmode\":\"overlay\",\"size\":10,\"solidity\":0.2}},\"type\":\"bar\"}],\"barpolar\":[{\"marker\":{\"line\":{\"color\":\"#E5ECF6\",\"width\":0.5},\"pattern\":{\"fillmode\":\"overlay\",\"size\":10,\"solidity\":0.2}},\"type\":\"barpolar\"}],\"carpet\":[{\"aaxis\":{\"endlinecolor\":\"#2a3f5f\",\"gridcolor\":\"white\",\"linecolor\":\"white\",\"minorgridcolor\":\"white\",\"startlinecolor\":\"#2a3f5f\"},\"baxis\":{\"endlinecolor\":\"#2a3f5f\",\"gridcolor\":\"white\",\"linecolor\":\"white\",\"minorgridcolor\":\"white\",\"startlinecolor\":\"#2a3f5f\"},\"type\":\"carpet\"}],\"choropleth\":[{\"colorbar\":{\"outlinewidth\":0,\"ticks\":\"\"},\"type\":\"choropleth\"}],\"contour\":[{\"colorbar\":{\"outlinewidth\":0,\"ticks\":\"\"},\"colorscale\":[[0.0,\"#0d0887\"],[0.1111111111111111,\"#46039f\"],[0.2222222222222222,\"#7201a8\"],[0.3333333333333333,\"#9c179e\"],[0.4444444444444444,\"#bd3786\"],[0.5555555555555556,\"#d8576b\"],[0.6666666666666666,\"#ed7953\"],[0.7777777777777778,\"#fb9f3a\"],[0.8888888888888888,\"#fdca26\"],[1.0,\"#f0f921\"]],\"type\":\"contour\"}],\"contourcarpet\":[{\"colorbar\":{\"outlinewidth\":0,\"ticks\":\"\"},\"type\":\"contourcarpet\"}],\"heatmap\":[{\"colorbar\":{\"outlinewidth\":0,\"ticks\":\"\"},\"colorscale\":[[0.0,\"#0d0887\"],[0.1111111111111111,\"#46039f\"],[0.2222222222222222,\"#7201a8\"],[0.3333333333333333,\"#9c179e\"],[0.4444444444444444,\"#bd3786\"],[0.5555555555555556,\"#d8576b\"],[0.6666666666666666,\"#ed7953\"],[0.7777777777777778,\"#fb9f3a\"],[0.8888888888888888,\"#fdca26\"],[1.0,\"#f0f921\"]],\"type\":\"heatmap\"}],\"heatmapgl\":[{\"colorbar\":{\"outlinewidth\":0,\"ticks\":\"\"},\"colorscale\":[[0.0,\"#0d0887\"],[0.1111111111111111,\"#46039f\"],[0.2222222222222222,\"#7201a8\"],[0.3333333333333333,\"#9c179e\"],[0.4444444444444444,\"#bd3786\"],[0.5555555555555556,\"#d8576b\"],[0.6666666666666666,\"#ed7953\"],[0.7777777777777778,\"#fb9f3a\"],[0.8888888888888888,\"#fdca26\"],[1.0,\"#f0f921\"]],\"type\":\"heatmapgl\"}],\"histogram\":[{\"marker\":{\"pattern\":{\"fillmode\":\"overlay\",\"size\":10,\"solidity\":0.2}},\"type\":\"histogram\"}],\"histogram2d\":[{\"colorbar\":{\"outlinewidth\":0,\"ticks\":\"\"},\"colorscale\":[[0.0,\"#0d0887\"],[0.1111111111111111,\"#46039f\"],[0.2222222222222222,\"#7201a8\"],[0.3333333333333333,\"#9c179e\"],[0.4444444444444444,\"#bd3786\"],[0.5555555555555556,\"#d8576b\"],[0.6666666666666666,\"#ed7953\"],[0.7777777777777778,\"#fb9f3a\"],[0.8888888888888888,\"#fdca26\"],[1.0,\"#f0f921\"]],\"type\":\"histogram2d\"}],\"histogram2dcontour\":[{\"colorbar\":{\"outlinewidth\":0,\"ticks\":\"\"},\"colorscale\":[[0.0,\"#0d0887\"],[0.1111111111111111,\"#46039f\"],[0.2222222222222222,\"#7201a8\"],[0.3333333333333333,\"#9c179e\"],[0.4444444444444444,\"#bd3786\"],[0.5555555555555556,\"#d8576b\"],[0.6666666666666666,\"#ed7953\"],[0.7777777777777778,\"#fb9f3a\"],[0.8888888888888888,\"#fdca26\"],[1.0,\"#f0f921\"]],\"type\":\"histogram2dcontour\"}],\"mesh3d\":[{\"colorbar\":{\"outlinewidth\":0,\"ticks\":\"\"},\"type\":\"mesh3d\"}],\"parcoords\":[{\"line\":{\"colorbar\":{\"outlinewidth\":0,\"ticks\":\"\"}},\"type\":\"parcoords\"}],\"pie\":[{\"automargin\":true,\"type\":\"pie\"}],\"scatter\":[{\"marker\":{\"colorbar\":{\"outlinewidth\":0,\"ticks\":\"\"}},\"type\":\"scatter\"}],\"scatter3d\":[{\"line\":{\"colorbar\":{\"outlinewidth\":0,\"ticks\":\"\"}},\"marker\":{\"colorbar\":{\"outlinewidth\":0,\"ticks\":\"\"}},\"type\":\"scatter3d\"}],\"scattercarpet\":[{\"marker\":{\"colorbar\":{\"outlinewidth\":0,\"ticks\":\"\"}},\"type\":\"scattercarpet\"}],\"scattergeo\":[{\"marker\":{\"colorbar\":{\"outlinewidth\":0,\"ticks\":\"\"}},\"type\":\"scattergeo\"}],\"scattergl\":[{\"marker\":{\"colorbar\":{\"outlinewidth\":0,\"ticks\":\"\"}},\"type\":\"scattergl\"}],\"scattermapbox\":[{\"marker\":{\"colorbar\":{\"outlinewidth\":0,\"ticks\":\"\"}},\"type\":\"scattermapbox\"}],\"scatterpolar\":[{\"marker\":{\"colorbar\":{\"outlinewidth\":0,\"ticks\":\"\"}},\"type\":\"scatterpolar\"}],\"scatterpolargl\":[{\"marker\":{\"colorbar\":{\"outlinewidth\":0,\"ticks\":\"\"}},\"type\":\"scatterpolargl\"}],\"scatterternary\":[{\"marker\":{\"colorbar\":{\"outlinewidth\":0,\"ticks\":\"\"}},\"type\":\"scatterternary\"}],\"surface\":[{\"colorbar\":{\"outlinewidth\":0,\"ticks\":\"\"},\"colorscale\":[[0.0,\"#0d0887\"],[0.1111111111111111,\"#46039f\"],[0.2222222222222222,\"#7201a8\"],[0.3333333333333333,\"#9c179e\"],[0.4444444444444444,\"#bd3786\"],[0.5555555555555556,\"#d8576b\"],[0.6666666666666666,\"#ed7953\"],[0.7777777777777778,\"#fb9f3a\"],[0.8888888888888888,\"#fdca26\"],[1.0,\"#f0f921\"]],\"type\":\"surface\"}],\"table\":[{\"cells\":{\"fill\":{\"color\":\"#EBF0F8\"},\"line\":{\"color\":\"white\"}},\"header\":{\"fill\":{\"color\":\"#C8D4E3\"},\"line\":{\"color\":\"white\"}},\"type\":\"table\"}]},\"layout\":{\"annotationdefaults\":{\"arrowcolor\":\"#2a3f5f\",\"arrowhead\":0,\"arrowwidth\":1},\"autotypenumbers\":\"strict\",\"coloraxis\":{\"colorbar\":{\"outlinewidth\":0,\"ticks\":\"\"}},\"colorscale\":{\"diverging\":[[0,\"#8e0152\"],[0.1,\"#c51b7d\"],[0.2,\"#de77ae\"],[0.3,\"#f1b6da\"],[0.4,\"#fde0ef\"],[0.5,\"#f7f7f7\"],[0.6,\"#e6f5d0\"],[0.7,\"#b8e186\"],[0.8,\"#7fbc41\"],[0.9,\"#4d9221\"],[1,\"#276419\"]],\"sequential\":[[0.0,\"#0d0887\"],[0.1111111111111111,\"#46039f\"],[0.2222222222222222,\"#7201a8\"],[0.3333333333333333,\"#9c179e\"],[0.4444444444444444,\"#bd3786\"],[0.5555555555555556,\"#d8576b\"],[0.6666666666666666,\"#ed7953\"],[0.7777777777777778,\"#fb9f3a\"],[0.8888888888888888,\"#fdca26\"],[1.0,\"#f0f921\"]],\"sequentialminus\":[[0.0,\"#0d0887\"],[0.1111111111111111,\"#46039f\"],[0.2222222222222222,\"#7201a8\"],[0.3333333333333333,\"#9c179e\"],[0.4444444444444444,\"#bd3786\"],[0.5555555555555556,\"#d8576b\"],[0.6666666666666666,\"#ed7953\"],[0.7777777777777778,\"#fb9f3a\"],[0.8888888888888888,\"#fdca26\"],[1.0,\"#f0f921\"]]},\"colorway\":[\"#636efa\",\"#EF553B\",\"#00cc96\",\"#ab63fa\",\"#FFA15A\",\"#19d3f3\",\"#FF6692\",\"#B6E880\",\"#FF97FF\",\"#FECB52\"],\"font\":{\"color\":\"#2a3f5f\"},\"geo\":{\"bgcolor\":\"white\",\"lakecolor\":\"white\",\"landcolor\":\"#E5ECF6\",\"showlakes\":true,\"showland\":true,\"subunitcolor\":\"white\"},\"hoverlabel\":{\"align\":\"left\"},\"hovermode\":\"closest\",\"mapbox\":{\"style\":\"light\"},\"paper_bgcolor\":\"white\",\"plot_bgcolor\":\"#E5ECF6\",\"polar\":{\"angularaxis\":{\"gridcolor\":\"white\",\"linecolor\":\"white\",\"ticks\":\"\"},\"bgcolor\":\"#E5ECF6\",\"radialaxis\":{\"gridcolor\":\"white\",\"linecolor\":\"white\",\"ticks\":\"\"}},\"scene\":{\"xaxis\":{\"backgroundcolor\":\"#E5ECF6\",\"gridcolor\":\"white\",\"gridwidth\":2,\"linecolor\":\"white\",\"showbackground\":true,\"ticks\":\"\",\"zerolinecolor\":\"white\"},\"yaxis\":{\"backgroundcolor\":\"#E5ECF6\",\"gridcolor\":\"white\",\"gridwidth\":2,\"linecolor\":\"white\",\"showbackground\":true,\"ticks\":\"\",\"zerolinecolor\":\"white\"},\"zaxis\":{\"backgroundcolor\":\"#E5ECF6\",\"gridcolor\":\"white\",\"gridwidth\":2,\"linecolor\":\"white\",\"showbackground\":true,\"ticks\":\"\",\"zerolinecolor\":\"white\"}},\"shapedefaults\":{\"line\":{\"color\":\"#2a3f5f\"}},\"ternary\":{\"aaxis\":{\"gridcolor\":\"white\",\"linecolor\":\"white\",\"ticks\":\"\"},\"baxis\":{\"gridcolor\":\"white\",\"linecolor\":\"white\",\"ticks\":\"\"},\"bgcolor\":\"#E5ECF6\",\"caxis\":{\"gridcolor\":\"white\",\"linecolor\":\"white\",\"ticks\":\"\"}},\"title\":{\"x\":0.05},\"xaxis\":{\"automargin\":true,\"gridcolor\":\"white\",\"linecolor\":\"white\",\"ticks\":\"\",\"title\":{\"standoff\":15},\"zerolinecolor\":\"white\",\"zerolinewidth\":2},\"yaxis\":{\"automargin\":true,\"gridcolor\":\"white\",\"linecolor\":\"white\",\"ticks\":\"\",\"title\":{\"standoff\":15},\"zerolinecolor\":\"white\",\"zerolinewidth\":2}}},\"xaxis\":{\"anchor\":\"y\",\"domain\":[0.0,1.0],\"title\":{\"text\":\"title\"}},\"yaxis\":{\"anchor\":\"x\",\"domain\":[0.0,1.0],\"title\":{\"text\":\"avg_reviews\"},\"type\":\"log\"},\"legend\":{\"tracegroupgap\":0},\"margin\":{\"t\":60},\"barmode\":\"relative\",\"width\":800,\"height\":1640,\"title\":{\"text\":\"Dez livros com mais reviews: M\\u00e9dia Reviews\"}},                        {\"responsive\": true}                    ).then(function(){\n",
              "                            \n",
              "var gd = document.getElementById('0aac2da6-1dcc-445f-b2a6-da7377376367');\n",
              "var x = new MutationObserver(function (mutations, observer) {{\n",
              "        var display = window.getComputedStyle(gd).display;\n",
              "        if (!display || display === 'none') {{\n",
              "            console.log([gd, 'removed!']);\n",
              "            Plotly.purge(gd);\n",
              "            observer.disconnect();\n",
              "        }}\n",
              "}});\n",
              "\n",
              "// Listen for the removal of the full notebook cells\n",
              "var notebookContainer = gd.closest('#notebook-container');\n",
              "if (notebookContainer) {{\n",
              "    x.observe(notebookContainer, {childList: true});\n",
              "}}\n",
              "\n",
              "// Listen for the clearing of the current output cell\n",
              "var outputEl = gd.closest('.output');\n",
              "if (outputEl) {{\n",
              "    x.observe(outputEl, {childList: true});\n",
              "}}\n",
              "\n",
              "                        })                };                            </script>        </div>\n",
              "</body>\n",
              "</html>"
            ]
          },
          "metadata": {}
        }
      ]
    },
    {
      "cell_type": "markdown",
      "source": [
        "#2.0 AUTORES COM MAIS PUBLICAÇÕES#\n",
        "---"
      ],
      "metadata": {
        "id": "YT_9NWixoZEw"
      }
    },
    {
      "cell_type": "code",
      "source": [
        "data.author.value_counts().sort_values(ascending=False)[:11].plot(kind='bar')"
      ],
      "metadata": {
        "colab": {
          "base_uri": "https://localhost:8080/",
          "height": 810
        },
        "id": "oVP6YmVQVKlX",
        "outputId": "beb668f8-175d-4639-9348-4fd7549d7d5a"
      },
      "execution_count": null,
      "outputs": [
        {
          "output_type": "execute_result",
          "data": {
            "text/plain": [
              "<matplotlib.axes._subplots.AxesSubplot at 0x7ff8537bca10>"
            ]
          },
          "metadata": {},
          "execution_count": 54
        },
        {
          "output_type": "display_data",
          "data": {
            "text/plain": [
              "<Figure size 1440x720 with 1 Axes>"
            ],
            "image/png": "[encoded data removed]"
          },
          "metadata": {
            "needs_background": "light"
          }
        }
      ]
    },
    {
      "cell_type": "markdown",
      "source": [
        "#3.0 VALORES NULOS#\n",
        "---"
      ],
      "metadata": {
        "id": "EXtY8-NnpBXY"
      }
    },
    {
      "cell_type": "code",
      "source": [
        "data.isnull().sum()"
      ],
      "metadata": {
        "colab": {
          "base_uri": "https://localhost:8080/"
        },
        "id": "ECEfyTQ3TwWc",
        "outputId": "ac7b7fa0-a717-4b89-e796-0e877cbe0d18"
      },
      "execution_count": null,
      "outputs": [
        {
          "output_type": "execute_result",
          "data": {
            "text/plain": [
              "title              0\n",
              "author           122\n",
              "price              2\n",
              "pages             12\n",
              "avg_reviews      123\n",
              "n_reviews          0\n",
              "star5              0\n",
              "star4              0\n",
              "star3              0\n",
              "star2              0\n",
              "star1              0\n",
              "dimensions        32\n",
              "weight             3\n",
              "language           3\n",
              "publisher          4\n",
              "ISBN_13            1\n",
              "link               0\n",
              "complete_link      0\n",
              "dtype: int64"
            ]
          },
          "metadata": {},
          "execution_count": 8
        }
      ]
    },
    {
      "cell_type": "markdown",
      "source": [
        "#4.0 QUANTIDADE DE LIVROS PUBLICADOS POR ANO#\n",
        "---"
      ],
      "metadata": {
        "id": "ZcrivRv7opye"
      }
    },
    {
      "cell_type": "code",
      "source": [
        "#novo dataframe com valores nulos alterados\n",
        "publisher_validos = new_data['publisher'].fillna('nulo', inplace=True)"
      ],
      "metadata": {
        "id": "Tqdyzq-QZb7J"
      },
      "execution_count": null,
      "outputs": []
    },
    {
      "cell_type": "code",
      "source": [
        "books = []\n",
        "\n",
        "#adicionando valores válidos em books\n",
        "for x in new_data['publisher']:\n",
        "    if x != 'nulo':\n",
        "        books.append(x)\n",
        "\n",
        "len(books)"
      ],
      "metadata": {
        "colab": {
          "base_uri": "https://localhost:8080/"
        },
        "id": "wkEzLk4UVfGH",
        "outputId": "e3d69475-15f2-400b-e2a0-3ca5921a7ad0"
      },
      "execution_count": null,
      "outputs": [
        {
          "output_type": "execute_result",
          "data": {
            "text/plain": [
              "942"
            ]
          },
          "metadata": {},
          "execution_count": 10
        }
      ]
    },
    {
      "cell_type": "code",
      "source": [
        "anos = []\n",
        "\n",
        "for ano in books:\n",
        "    #dividindo a variável em partes\n",
        "    year = ano.split()[-1] \n",
        "    if len(year.split(')')[0]) == 4:\n",
        "        anos.append(year.split(')')[0])\n",
        "\n",
        "#filtrandos os valores referentes a 2023\n",
        "anos_sem_2023 = [x for x in anos if x != '2023']\n",
        "\n",
        "#transformando a lista em uma series\n",
        "series_anos = pd.Series(anos_sem_2023)\n",
        "\n",
        "#calculando a frequência e ordenando a series\n",
        "series_anos.value_counts().sort_index()"
      ],
      "metadata": {
        "colab": {
          "base_uri": "https://localhost:8080/"
        },
        "id": "Z8d_2kevcfKi",
        "outputId": "a30d68eb-c420-43e8-ab3a-c2cbb6755755"
      },
      "execution_count": null,
      "outputs": [
        {
          "output_type": "execute_result",
          "data": {
            "text/plain": [
              "1972      1\n",
              "1990      1\n",
              "1995      1\n",
              "1998      2\n",
              "1999      2\n",
              "2000      1\n",
              "2002      2\n",
              "2003      1\n",
              "2005      1\n",
              "2006      5\n",
              "2008      2\n",
              "2009      5\n",
              "2010      8\n",
              "2011      9\n",
              "2012     14\n",
              "2013     17\n",
              "2014     20\n",
              "2015     12\n",
              "2016     38\n",
              "2017     52\n",
              "2018     62\n",
              "2019    112\n",
              "2020    155\n",
              "2021    186\n",
              "2022    213\n",
              "dtype: int64"
            ]
          },
          "metadata": {},
          "execution_count": 11
        }
      ]
    },
    {
      "cell_type": "code",
      "source": [
        "plt.plot(series_anos.value_counts().sort_index())\n",
        "plt.rcParams['figure.figsize'] = [20,10]\n",
        "plt.title('quantidade de livros por ano')\n",
        "plt.grid(True)\n",
        "plt.show()"
      ],
      "metadata": {
        "colab": {
          "base_uri": "https://localhost:8080/",
          "height": 607
        },
        "id": "uReu0LPlVfsl",
        "outputId": "f455e458-7ae5-48dc-81aa-469a3df6d715"
      },
      "execution_count": null,
      "outputs": [
        {
          "output_type": "display_data",
          "data": {
            "text/plain": [
              "<Figure size 1440x720 with 1 Axes>"
            ],
            "image/png": "[encoded data removed]"
          },
          "metadata": {
            "needs_background": "light"
          }
        }
      ]
    },
    {
      "cell_type": "markdown",
      "source": [
        "#5.0 IDIOMA DOS LIVROS#\n",
        "---"
      ],
      "metadata": {
        "id": "LCOEwoVOJ7Mr"
      }
    },
    {
      "cell_type": "code",
      "source": [
        "data.language.value_counts()"
      ],
      "metadata": {
        "colab": {
          "base_uri": "https://localhost:8080/"
        },
        "id": "dKjcSycsJb_C",
        "outputId": "c17fb02f-1bda-4225-8445-a7705ec4b7e7"
      },
      "execution_count": null,
      "outputs": [
        {
          "output_type": "execute_result",
          "data": {
            "text/plain": [
              "English    942\n",
              "Spanish      1\n",
              "Name: language, dtype: int64"
            ]
          },
          "metadata": {},
          "execution_count": 13
        }
      ]
    },
    {
      "cell_type": "markdown",
      "source": [
        "#6.0 GRÁFICO DINÂMICO#\n",
        "---"
      ],
      "metadata": {
        "id": "0hTBmc8BpI4P"
      }
    },
    {
      "cell_type": "code",
      "source": [
        "px.scatter(data, x=\"price\", y=\"pages\", color='avg_reviews', color_continuous_scale='icefire'\n",
        "          , size='n_reviews')"
      ],
      "metadata": {
        "colab": {
          "base_uri": "https://localhost:8080/",
          "height": 542
        },
        "id": "RYXwYeRpPN9r",
        "outputId": "a069363f-cd1f-4a80-e58a-3c46c0cb44a7"
      },
      "execution_count": null,
      "outputs": [
        {
          "output_type": "display_data",
          "data": {
            "text/html": [
              "<html>\n",
              "<head><meta charset=\"utf-8\" /></head>\n",
              "<body>\n",
              "    <div>            <script src=\"https://cdnjs.cloudflare.com/ajax/libs/mathjax/2.7.5/MathJax.js?config=TeX-AMS-MML_SVG\"></script><script type=\"text/javascript\">if (window.MathJax) {MathJax.Hub.Config({SVG: {font: \"STIX-Web\"}});}</script>                <script type=\"text/javascript\">window.PlotlyConfig = {MathJaxConfig: 'local'};</script>\n",
              "        <script src=\"https://cdn.plot.ly/plotly-2.8.3.min.js\"></script>                <div id=\"4d61c529-d0c6-4453-ac81-127115b9db4e\" class=\"plotly-graph-div\" style=\"height:525px; width:100%;\"></div>            <script type=\"text/javascript\">                                    window.PLOTLYENV=window.PLOTLYENV || {};                                    if (document.getElementById(\"4d61c529-d0c6-4453-ac81-127115b9db4e\")) {                    Plotly.newPlot(                        \"4d61c529-d0c6-4453-ac81-127115b9db4e\",                        [{\"hovertemplate\":\"price=%{x}<br>pages=%{y}<br>n_reviews=%{marker.size}<br>avg_reviews=%{marker.color}<extra></extra>\",\"legendgroup\":\"\",\"marker\":{\"color\":[4.6,4.5,5.0,4.5,4.5,4.4,4.6,4.3,null,4.5,4.6,4.1,4.7,4.7,4.4,4.4,3.6,4.3,4.5,4.6,4.8,4.2,5.0,null,4.3,4.6,4.3,5.0,4.6,4.6,4.5,4.8,4.5,5.0,3.9,4.6,3.9,null,4.6,4.0,4.5,4.5,4.3,4.3,4.6,5.0,4.8,null,4.7,3.8,5.0,null,4.5,5.0,5.0,5.0,null,4.4,4.4,null,4.6,3.2,4.2,4.8,4.1,4.3,4.1,4.6,5.0,null,4.1,4.4,4.3,3.5,3.7,4.7,4.2,4.8,4.4,4.7,null,5.0,5.0,4.5,3.8,4.7,4.1,3.8,4.5,3.9,4.4,4.4,4.4,4.6,4.5,5.0,3.9,5.0,4.5,4.7,null,4.3,5.0,4.6,4.7,4.4,4.6,4.5,4.5,4.4,4.4,4.9,4.6,4.5,3.8,null,4.8,null,4.1,4.1,4.7,null,5.0,4.1,4.4,4.7,4.6,4.7,3.7,4.2,4.8,4.2,null,3.7,4.4,3.6,null,5.0,3.7,3.9,4.1,5.0,4.7,5.0,4.7,4.6,4.3,4.3,null,null,4.5,4.5,4.6,4.7,null,4.3,4.7,null,null,4.4,1.0,4.6,4.6,4.4,null,4.6,4.9,5.0,4.0,4.5,4.8,null,4.2,4.4,4.5,4.6,4.4,4.6,4.6,3.5,null,4.3,null,4.5,4.1,4.4,5.0,4.6,5.0,4.7,null,4.2,5.0,4.3,null,null,4.4,5.0,4.8,4.5,4.6,4.2,4.6,5.0,4.4,4.5,3.0,null,4.1,null,4.8,3.9,4.6,4.5,4.9,4.7,4.0,4.6,4.6,4.7,4.5,4.6,null,5.0,4.7,4.0,4.4,4.7,4.5,4.7,4.9,null,4.6,null,3.5,4.3,5.0,4.6,4.6,4.9,4.6,4.8,4.6,4.4,4.2,null,4.5,4.5,null,4.3,4.5,4.4,4.6,null,4.2,null,null,4.1,4.6,4.8,4.3,4.7,4.2,4.5,4.4,4.4,4.2,4.3,4.6,4.4,null,4.7,4.7,5.0,4.2,null,4.4,4.5,4.5,5.0,4.6,4.4,4.3,4.2,4.4,5.0,4.3,4.2,4.7,4.6,4.5,4.3,4.3,4.6,4.8,null,4.8,4.5,5.0,4.7,4.7,4.6,4.7,null,4.5,4.3,4.4,null,4.8,4.5,3.5,4.5,4.6,null,4.4,5.0,4.0,5.0,4.1,4.4,4.6,4.4,4.2,4.1,3.5,4.6,4.3,4.4,4.1,5.0,4.4,4.7,4.4,4.8,4.7,3.9,3.5,4.6,4.5,3.2,4.5,4.7,4.4,4.1,4.4,4.7,4.1,4.2,4.2,4.6,4.2,4.0,null,4.9,4.9,4.7,4.5,3.8,4.4,4.0,4.5,null,4.5,4.3,4.8,4.6,5.0,3.8,4.3,4.8,4.4,4.7,4.5,4.2,3.8,4.5,5.0,4.4,4.3,4.2,4.7,4.8,4.2,4.8,4.6,5.0,4.4,4.3,4.7,null,5.0,null,4.8,4.8,4.4,4.4,4.7,4.7,4.6,4.5,4.3,4.5,4.2,4.4,4.7,null,4.5,4.8,4.7,3.8,4.8,4.5,4.6,null,3.6,4.7,null,4.7,4.2,4.7,4.5,4.0,4.7,4.6,4.5,4.4,4.8,4.5,4.6,5.0,4.5,4.2,4.6,5.0,4.6,null,null,4.6,4.5,null,4.5,null,null,4.7,null,4.2,4.8,4.7,4.6,4.2,4.5,4.8,5.0,3.5,4.6,null,null,4.2,4.1,2.0,4.1,3.0,5.0,null,4.1,null,4.2,4.6,5.0,4.5,4.3,null,5.0,4.7,4.3,null,5.0,4.4,3.7,3.9,2.0,null,null,4.5,3.3,4.5,3.7,null,4.7,4.1,4.5,null,null,4.7,4.2,null,4.5,4.3,null,4.7,4.6,3.9,null,5.0,4.4,4.7,3.2,null,null,4.2,null,5.0,4.5,4.4,4.4,3.7,4.4,3.9,3.5,4.2,null,4.1,4.5,4.4,null,4.0,4.7,4.6,4.5,3.5,4.5,4.6,4.7,5.0,null,4.8,4.3,4.5,null,5.0,4.3,4.3,4.6,4.7,4.0,4.0,4.8,4.6,4.7,4.1,4.2,null,4.2,3.5,4.4,4.5,5.0,4.0,4.3,4.5,4.7,5.0,4.3,5.0,4.9,4.2,null,4.5,4.4,null,4.2,4.6,4.8,4.5,4.4,4.6,5.0,5.0,4.7,4.4,4.5,4.9,5.0,null,4.3,null,4.5,4.3,4.3,4.6,4.8,null,4.1,5.0,5.0,4.3,4.1,5.0,null,4.3,null,4.3,5.0,null,4.1,4.8,4.6,4.9,4.6,4.6,4.1,null,4.8,4.6,4.3,4.8,3.9,4.0,null,null,4.6,4.5,4.6,null,4.2,5.0,4.6,null,4.5,3.9,3.5,4.6,4.2,null,3.6,4.7,4.4,null,4.9,4.4,4.9,4.5,4.2,3.9,4.6,3.7,4.5,5.0,3.9,4.0,4.1,null,4.4,4.2,4.4,4.5,3.3,4.2,3.8,4.6,4.6,5.0,4.0,4.6,4.0,4.5,4.5,4.1,4.3,4.6,null,4.5,3.3,4.2,4.7,4.5,3.9,4.6,4.5,4.6,3.8,4.1,null,null,4.0,3.8,4.8,null,4.7,4.3,4.4,5.0,5.0,4.7,4.7,4.6,4.5,4.7,5.0,4.6,4.3,4.6,4.2,null,4.5,5.0,4.4,4.4,null,null,4.4,4.8,4.7,4.6,5.0,null,4.4,4.7,4.5,5.0,4.0,3.5,null,null,null,4.9,null,4.0,4.6,4.9,4.8,null,4.4,null,4.6,4.7,4.6,4.3,4.9,4.7,null,5.0,3.9,4.6,4.6,5.0,4.6,4.2,3.3,5.0,4.2,4.5,4.6,4.6,4.5,4.3,4.7,4.5,4.5,null,4.1,5.0,null,4.4,5.0,4.8,4.7,5.0,4.5,4.5,4.3,null,4.2,null,4.5,5.0,5.0,4.3,4.4,4.6,4.4,4.5,4.6,4.5,4.4,4.5,4.2,4.6,null,4.4,4.3,4.6,4.6,4.4,4.4,4.2,4.7,4.5,4.7,5.0,4.4,3.8,4.3,3.1,4.1,4.3,4.4,null,4.8,4.5,null,4.5,4.3,4.7,4.7,4.2,null,5.0,4.1,4.3,4.6,4.4,4.1,4.5,4.5,4.5,4.6,4.7,4.7,4.5,4.3,4.4,4.6,4.6,null,4.5,4.6,4.2,4.7,4.3,4.4,4.4,null,5.0,4.4,null,4.2,4.5,4.4,4.5,4.3,4.6,4.3,4.6,4.5,4.9,4.4,4.5,4.6,4.4,4.1,4.2,4.2,4.3,4.6,4.4,4.8,3.6,4.0,4.3,4.5,4.6,4.8,4.2,4.5,4.4,4.4,4.4,4.4,4.6,4.8,4.4,4.0,4.6,5.0,4.4,4.7,3.2,4.4,4.6,4.5,4.3,4.4,4.5,4.3,4.3,4.0,4.1,4.4,4.6,4.4,4.4,4.6,4.5,3.0,4.5,4.3,4.6,4.3,4.6,3.7,4.6,4.3,4.3,3.0,4.5,4.3,4.3,4.2,4.0,4.5,4.7,4.4,4.4,4.8,4.9,4.6,4.4,null,null,4.4,4.1,4.4,4.9,4.3,4.5,4.7,4.7,5.0,3.3,null,4.6,4.3,4.5,4.6,4.5],\"coloraxis\":\"coloraxis\",\"size\":[184,599,33,27,970,594,655,6,0,383,35,16,44,21,135,26,57,64,143,2764,27,17,5,0,71,14,63,1,52,68,31,3167,346,1,9,344,11,0,2271,14,9,33,172,142,8,2,37,0,39,7,9,0,23,6,4,2,0,20,48,0,63,52,37,34,21,68,18,51,1,0,5,55,51,2,48,54,3,63,72,50,0,2,2,87,3,44,13,8,4,9,30,77,205,5,273,1,43,3,9,7,0,7,1,109,7425,27,40,101,17,75,73,25,22,199,3,0,6,0,61,14,7,0,2,20,309,200,22,7563,10,35,7,282,0,17,11,4,0,8,7,8,12,4,15,14,531,15,53,22,0,0,36,2,10,18,0,26,38,0,0,50,1,10,16,226,0,561,187,7,36,16,7,0,95,83,6,87,26,662,232,2,0,87,0,387,20,186,1,6,1,9,0,20,13,7,0,0,3,1,29,371,816,32,101,6,37,11,2,0,10,0,64,6,105,58,16,580,27,12,1631,45,104,51,0,3,197,8,92,50,178,555,10,0,127,0,3,34,4,3313,247,89,242,14,14,92,33,0,9,115,0,129,6,4,67,0,22,0,0,11,110,8,79,424,21,26,116,29,60,18,176,152,0,96,279,3,26,0,39,4,43,1,7,51,15,23,178,2,18,134,41,18,23,7,239,44,34,0,32,2,1,24,5,30,14,0,17,8,13,0,285,45,5,423,57,0,150,1,12,3,8,37,2467,147,22,16,3,3,38,43,15,8,55,10,24,39,154,66,3,256,26,6,126,30,162,10,8,60,41,17,27,7,110,19,0,191,18,514,31,110,53,3,30,0,54,13,22,180,1,12,4033,27,36,119,264,5,11,18,2,10,5,91,15,7,164,21,462,2,97,8,31,0,6,0,418,35,93,79,66,90,148,305,1862,189,14,82,36,0,116,28,4,23,53,143,51,0,6,135,0,47,48,12,22,32,10,110,66,138,8,33,1349,1,189,30,49,1,22,0,0,9,100,0,55,0,0,342,0,15,12,32,192,16,24,14,1,52,53,0,0,95,6,1,8,2,2,0,32,0,33,10,1,17,10,0,4,348,22,0,1,77,5,5,1,0,0,48,3,243,12,0,127,31,62,0,0,8,3,0,14,18,0,4,13,62,0,2,48,11,7,0,0,81,0,1,8,3,6,14,9,15,2,25,0,10,23,26,0,2,147,9,164,20,172,148,118,1,0,42,21,2,0,7,52,33,243,5,43,33,11,30,168,55,37,0,73,2,50,272,4,1,18,565,222,3,6,2,20,56,0,514,314,0,31,663,48,101,16,47,2,6,56,218,92,12,2,0,45,0,57,7,347,24,23,0,14,3,4,243,16,5,0,31,0,7,1,0,18,9,13,18,460,377,44,0,2026,23,7,8,14,22,0,0,208,65,97,0,3,1,156,0,44,33,18,11,83,0,4,17,11,0,23,34,16,93,74,19,14,53,2,2,37,25,81,0,116,77,19,55,5,109,8,1957,85,6,54,144,11,18,52,45,14,26,0,2,5,15,4,188,30,143,65,1016,12,5,0,0,30,4,15,0,62,3,370,1,1,236,118,91,91,476,1,376,62,486,34,0,53,6,47,904,0,0,41,5,344,359,8,0,110,33,211,1,10,3,0,0,0,34,0,2,48,37,14,0,8,0,9,354,178,225,39,88,0,7,25,102,23,8,855,160,12,3,79,37,561,370,37,12,139,157,91,0,70,2,0,131,2,85,387,1,229,131,41,0,56,0,375,1,3,19,160,1059,112,64,84,462,41,117,112,109,0,382,110,137,89,77,41,10,43,79,42,17,45,22,30,18,243,34,78,0,117,57,0,65,94,4528,329,38,0,6,44,3034,82,32,11,818,222,128,139,2538,346,697,1659,137,233,130,0,102,3,282,190,219,41,147,0,4,620,0,22,425,70,682,165,283,24,74,307,6,13,300,80,18,24,51,35,67,274,60,20,20,143,34,502,92,24,58,161,341,27,121,154,27,6,183,1,65,1,189,4,3,140,38,2,91,43,17,112,33,69,112,207,73,75,389,375,48,2,124,729,14,135,16,10,1358,38,55,1,344,201,101,21,69,45,126,133,57,6,28,55,161,0,0,124,33,1454,20,77,194,18,1361,2,4,0,327,6,1025,145,787],\"sizemode\":\"area\",\"sizeref\":18.9075,\"symbol\":\"circle\"},\"mode\":\"markers\",\"name\":\"\",\"orientation\":\"v\",\"showlegend\":false,\"x\":[24.49,26.0,50.76,44.8,36.99,45.22,24.88,28.49,69.99,9.61,25.49,49.99,47.62,51.99,31.99,61.74,34.15,35.67,33.43,17.99,39.99,14.49,49.99,66.49,40.1,58.49,44.99,34.99,36.99,39.94,29.59,23.37,21.1,62.99,72.59,25.97,46.99,116.85,11.69,64.1,31.99,19.0,26.3,28.49,56.99,37.2,77.43,69.99,43.97,44.99,46.99,4.73,51.99,44.99,40.99,89.95,29.99,38.82,39.99,19.99,49.39,37.99,19.99,77.28,49.99,19.99,30.99,36.99,45.0,69.99,39.99,24.99,44.49,31.99,11.99,32.49,44.49,52.05,11.07,40.49,49.99,44.99,38.91,19.49,49.99,24.99,76.96,19.86,26.0,14.95,44.64,22.99,41.02,44.99,106.66,14.99,32.49,33.9,69.34,54.81,80.31,39.99,39.95,45.77,21.49,33.93,34.99,51.89,39.95,44.86,99.0,29.95,24.99,18.91,59.99,59.95,49.99,73.08,19.99,28.49,59.99,66.49,65.0,43.35,14.9,78.22,58.33,35.95,49.49,41.99,48.0,24.9,9.98,11.97,29.6,36.99,39.95,51.99,19.59,54.95,47.49,15.0,14.64,55.09,40.16,48.95,84.99,17.99,54.95,150.0,35.74,14.99,47.99,28.06,150.0,41.99,33.69,34.99,79.96,35.99,179.99,47.49,51.99,27.89,69.95,42.75,24.29,35.99,61.82,46.99,54.99,16.95,37.79,46.99,51.0,37.03,49.99,24.49,37.99,29.95,197.02,39.17,39.99,49.39,49.99,41.76,22.63,85.38,169.99,49.99,40.0,25.0,44.99,39.99,29.95,13.32,20.0,29.95,46.99,14.19,31.99,23.99,23.74,73.09,51.31,46.02,29.95,87.94,24.95,75.99,37.13,15.39,43.09,108.99,51.0,46.54,49.39,76.54,53.99,34.99,52.39,40.99,39.95,34.95,85.5,24.49,38.54,null,32.99,24.49,47.49,59.99,23.74,23.37,10.0,28.45,42.58,28.49,51.96,19.62,39.96,30.0,76.98,54.95,11.97,59.99,45.0,115.0,18.36,13.99,null,45.0,47.97,58.31,51.69,19.95,19.99,66.95,47.0,44.99,39.99,38.25,45.99,34.03,85.0,73.43,105.99,45.0,68.99,40.99,49.99,59.95,86.69,105.63,53.71,30.0,28.8,39.9,23.98,53.03,15.99,34.95,28.01,44.99,19.89,14.95,32.99,25.49,39.99,92.7,42.73,20.0,113.99,46.0,19.89,169.99,52.0,34.95,74.99,44.95,44.99,74.61,39.99,40.0,46.63,37.25,37.74,69.99,75.07,99.99,84.95,49.99,23.49,19.99,64.5,50.0,86.25,68.95,88.5,29.95,9.99,41.78,119.99,54.68,10.99,87.99,122.76,99.41,52.59,44.99,10.99,69.51,62.52,60.0,55.37,21.97,54.99,53.65,72.47,29.99,42.95,50.0,98.7,46.99,96.91,27.99,17.99,75.32,168.89,49.99,33.29,26.95,139.99,45.0,36.79,39.71,43.03,168.7,33.29,55.37,82.99,38.0,78.49,95.95,54.95,51.49,32.92,43.15,27.97,44.99,37.99,24.95,38.91,84.95,54.95,100.98,19.99,46.99,9.99,177.32,45.49,39.95,39.89,45.0,33.2,42.0,132.98,41.99,34.18,59.99,45.2,89.99,36.99,36.54,36.26,38.99,53.23,56.99,37.23,13.99,54.25,44.39,58.99,45.59,38.95,50.99,33.21,43.49,47.55,44.99,39.49,54.99,48.84,44.99,66.27,46.79,47.49,49.99,48.49,29.99,36.49,35.0,75.99,55.43,32.33,39.49,44.99,19.89,32.49,70.0,46.99,39.99,97.31,66.59,39.99,25.99,14.59,28.02,46.99,49.99,19.99,199.99,75.99,37.49,49.99,49.99,75.99,39.89,14.95,49.2,39.99,40.59,49.44,51.99,41.99,59.99,59.99,40.59,55.49,99.99,41.99,29.95,39.99,14.99,69.99,25.99,37.99,33.06,179.0,37.3,36.49,34.95,36.95,28.34,37.99,25.99,88.12,24.99,41.99,46.99,15.43,54.99,28.98,21.9,48.04,44.99,29.0,47.92,38.49,49.99,39.99,25.95,30.0,45.91,73.76,58.31,86.35,68.1,79.23,29.95,44.99,35.75,174.64,69.1,50.58,41.99,36.11,165.0,38.34,29.99,97.65,69.99,41.99,59.95,48.81,20.49,42.99,44.99,49.99,33.09,140.0,82.3,55.95,49.99,104.51,32.99,29.99,29.95,49.0,31.75,45.39,59.99,43.49,106.99,49.99,33.49,25.49,137.42,103.29,35.99,23.99,49.99,36.99,41.99,39.99,44.99,44.64,44.99,31.38,34.49,37.09,179.0,23.49,169.99,39.99,41.99,29.95,46.99,39.99,45.0,39.49,39.99,47.49,44.99,26.99,20.49,42.74,40.49,96.46,105.0,49.99,76.1,80.0,20.0,42.49,40.41,44.99,52.24,50.0,62.99,83.8,51.99,29.95,62.99,52.25,64.31,35.49,22.3,19.45,74.42,49.99,75.9,15.95,115.78,45.0,71.2,45.29,44.99,39.99,40.49,60.0,42.99,49.99,44.99,52.99,41.99,49.99,35.49,66.44,42.0,29.6,86.32,30.26,19.99,19.95,44.99,28.98,36.99,64.36,56.99,82.47,42.49,59.94,49.99,52.99,29.31,125.99,59.99,44.49,16.23,24.99,36.99,81.99,44.99,38.99,55.24,19.99,29.95,39.0,43.96,78.8,29.99,78.96,13.99,67.65,49.99,44.99,72.0,60.61,33.99,35.5,61.99,36.74,53.99,49.99,40.84,29.95,51.57,49.99,37.99,47.27,45.56,46.99,20.99,46.99,39.99,29.95,23.99,34.99,46.99,121.0,59.99,37.51,46.61,46.95,19.99,45.18,72.02,34.99,61.93,14.99,53.54,108.0,49.99,39.99,19.95,35.99,65.0,57.99,45.3,18.99,46.49,69.99,30.22,50.99,46.82,48.98,37.99,29.99,42.75,38.24,28.99,37.11,64.32,32.99,47.18,39.99,31.99,79.99,30.0,40.99,56.99,40.86,44.37,39.0,34.99,37.41,42.74,34.3,18.83,39.99,29.99,56.26,56.26,49.99,49.39,49.99,39.0,33.48,39.99,47.99,44.99,39.99,59.99,18.74,19.37,33.49,99.88,56.99,24.49,49.99,44.43,18.53,37.99,39.99,61.18,50.62,17.39,37.99,17.59,16.63,37.06,50.68,10.66,25.99,49.99,28.49,28.02,41.99,49.99,39.49,29.4,24.95,29.99,44.99,32.99,24.48,29.95,36.49,50.99,45.5,49.99,28.49,96.0,46.56,44.0,98.36,44.99,29.99,19.95,69.07,44.99,39.99,16.89,19.97,51.29,30.46,52.25,37.95,17.27,39.99,42.75,44.64,46.99,37.99,71.99,49.39,24.99,23.06,49.99,39.99,49.99,17.97,29.95,24.95,56.69,39.99,8.66,35.81,39.94,39.99,41.99,44.49,47.49,29.24,37.99,40.49,36.94,44.99,17.97,56.53,46.99,154.23,13.79,35.99,37.99,55.09,26.49,24.49,31.99,11.99,14.88,36.58,18.99,18.0,11.89,18.99,95.66,39.16,18.99,179.95,105.45,60.0,14.99,64.7,29.99,11.95,170.15,84.85,94.46,223.99,54.1,95.92,69.56,21.8,188.73,109.95,19.99,81.53,16.66,197.32,215.32,37.17,70.99,31.99,159.99,14.16,240.34,110.83,30.0,129.0,14.06,18.99,25.48,179.14,62.85,55.54,100.99,85.79,74.96,55.0,138.99,121.11,50.0,35.0,279.95,52.0,8.99,100.0,67.99,103.48,52.99,35.2,104.5,40.49,189.99,75.31,181.35,17.69,99.99,197.32,75.24,37.68,25.99,114.6,95.08,143.71,45.0,191.99,170.66,118.7,9.99,11.99,191.99,158.99,82.63,9.99,253.32,50.0,106.65,223.98,25.99,10.0,94.95,111.59,31.96,14.7,22.8,36.0,118.0,22.99,42.0,171.47,181.32,186.66,33.24,18.0,44.99,33.94,112.47,28.0,28.33,59.23,129.99,47.76,15.55],\"xaxis\":\"x\",\"y\":[272.0,301.0,446.0,347.0,413.0,406.0,368.0,240.0,328.0,280.0,432.0,574.0,480.0,620.0,521.0,738.0,210.0,788.0,352.0,448.0,498.0,148.0,352.0,550.0,224.0,614.0,464.0,240.0,432.0,530.0,328.0,611.0,432.0,579.0,632.0,342.0,342.0,408.0,304.0,516.0,170.0,333.0,408.0,294.0,656.0,272.0,510.0,300.0,442.0,412.0,430.0,148.0,384.0,540.0,340.0,257.0,304.0,570.0,482.0,212.0,280.0,240.0,153.0,713.0,226.0,199.0,346.0,636.0,320.0,382.0,420.0,346.0,432.0,null,119.0,288.0,344.0,462.0,144.0,360.0,352.0,402.0,238.0,224.0,488.0,156.0,676.0,304.0,424.0,197.0,458.0,352.0,384.0,496.0,512.0,151.0,224.0,382.0,568.0,314.0,224.0,256.0,134.0,536.0,544.0,420.0,484.0,384.0,380.0,288.0,864.0,268.0,448.0,255.0,304.0,442.0,576.0,256.0,288.0,166.0,130.0,200.0,168.0,219.0,153.0,675.0,559.0,687.0,278.0,476.0,456.0,400.0,138.0,280.0,424.0,220.0,280.0,364.0,176.0,257.0,350.0,122.0,320.0,566.0,600.0,284.0,394.0,188.0,138.0,590.0,483.0,118.0,512.0,159.0,924.0,600.0,312.0,320.0,434.0,240.0,478.0,744.0,428.0,386.0,474.0,472.0,346.0,472.0,576.0,322.0,520.0,224.0,356.0,792.0,360.0,272.0,456.0,448.0,458.0,208.0,384.0,264.0,335.0,770.0,408.0,432.0,314.0,725.0,418.0,474.0,336.0,194.0,330.0,206.0,316.0,659.0,208.0,418.0,822.0,256.0,160.0,236.0,381.0,416.0,648.0,402.0,null,314.0,160.0,242.0,436.0,169.0,406.0,608.0,328.0,398.0,370.0,244.0,547.0,478.0,600.0,1168.0,256.0,274.0,408.0,368.0,800.0,586.0,335.0,448.0,630.0,467.0,355.0,708.0,127.0,400.0,230.0,288.0,608.0,168.0,426.0,128.0,626.0,550.0,118.0,246.0,584.0,1096.0,116.0,192.0,436.0,264.0,246.0,452.0,352.0,196.0,205.0,278.0,376.0,366.0,626.0,378.0,768.0,192.0,512.0,366.0,288.0,280.0,776.0,396.0,500.0,644.0,880.0,644.0,414.0,212.0,624.0,114.0,338.0,483.0,117.0,172.0,88.0,510.0,496.0,238.0,204.0,226.0,484.0,null,344.0,208.0,456.0,296.0,528.0,227.0,305.0,166.0,88.0,103.0,392.0,392.0,288.0,329.0,428.0,216.0,360.0,304.0,594.0,394.0,256.0,864.0,698.0,100.0,648.0,null,462.0,380.0,584.0,180.0,247.0,276.0,554.0,272.0,132.0,504.0,752.0,898.0,272.0,392.0,169.0,214.0,458.0,141.0,397.0,291.0,442.0,720.0,423.0,266.0,264.0,344.0,1728.0,312.0,568.0,427.0,174.0,398.0,640.0,182.0,292.0,278.0,445.0,376.0,136.0,508.0,324.0,688.0,448.0,590.0,736.0,335.0,644.0,532.0,568.0,390.0,1200.0,544.0,375.0,330.0,358.0,472.0,416.0,436.0,306.0,720.0,167.0,348.0,142.0,664.0,288.0,264.0,560.0,436.0,256.0,376.0,648.0,238.0,368.0,450.0,600.0,485.0,624.0,464.0,520.0,252.0,752.0,776.0,504.0,296.0,800.0,416.0,790.0,416.0,296.0,387.0,646.0,560.0,450.0,332.0,480.0,826.0,824.0,250.0,346.0,770.0,322.0,472.0,236.0,223.0,344.0,192.0,472.0,620.0,208.0,336.0,288.0,368.0,384.0,215.0,330.0,578.0,649.0,452.0,316.0,247.0,148.0,738.0,360.0,325.0,304.0,260.0,850.0,216.0,839.0,296.0,650.0,564.0,112.0,325.0,468.0,306.0,472.0,318.0,346.0,325.0,350.0,384.0,243.0,224.0,378.0,164.0,396.0,229.0,419.0,199.0,276.0,256.0,350.0,251.0,404.0,170.0,184.0,184.0,488.0,205.0,222.0,238.0,276.0,472.0,580.0,56.0,740.0,176.0,384.0,820.0,367.0,208.0,392.0,538.0,512.0,150.0,426.0,400.0,164.0,421.0,342.0,947.0,248.0,308.0,340.0,242.0,529.0,208.0,384.0,194.0,484.0,null,348.0,360.0,332.0,74.0,360.0,300.0,252.0,267.0,496.0,430.0,547.0,300.0,384.0,288.0,392.0,384.0,188.0,324.0,590.0,404.0,520.0,262.0,366.0,568.0,386.0,432.0,535.0,342.0,432.0,541.0,246.0,210.0,216.0,530.0,408.0,206.0,364.0,532.0,366.0,468.0,240.0,220.0,168.0,290.0,530.0,360.0,760.0,622.0,394.0,322.0,316.0,398.0,310.0,280.0,418.0,306.0,320.0,464.0,330.0,400.0,1104.0,null,338.0,738.0,856.0,152.0,424.0,736.0,258.0,576.0,272.0,410.0,573.0,762.0,170.0,410.0,568.0,400.0,366.0,254.0,125.0,1160.0,479.0,588.0,280.0,476.0,352.0,744.0,406.0,624.0,456.0,494.0,248.0,160.0,542.0,570.0,482.0,326.0,440.0,352.0,552.0,126.0,264.0,388.0,352.0,282.0,130.0,420.0,384.0,322.0,375.0,476.0,446.0,218.0,624.0,272.0,318.0,372.0,608.0,375.0,383.0,262.0,265.0,286.0,735.0,150.0,262.0,776.0,236.0,498.0,287.0,428.0,560.0,522.0,458.0,155.0,668.0,324.0,336.0,192.0,594.0,610.0,362.0,350.0,260.0,416.0,296.0,688.0,388.0,654.0,334.0,320.0,516.0,435.0,338.0,320.0,284.0,276.0,506.0,330.0,256.0,340.0,473.0,328.0,240.0,456.0,200.0,242.0,458.0,622.0,526.0,767.0,145.0,503.0,300.0,320.0,372.0,294.0,360.0,320.0,712.0,350.0,201.0,331.0,350.0,384.0,1012.0,352.0,688.0,635.0,284.0,552.0,714.0,289.0,552.0,300.0,380.0,764.0,664.0,320.0,600.0,304.0,290.0,400.0,480.0,304.0,518.0,224.0,640.0,710.0,590.0,734.0,364.0,91.0,250.0,550.0,375.0,376.0,245.0,null,770.0,538.0,354.0,402.0,216.0,752.0,240.0,416.0,null,768.0,248.0,360.0,264.0,372.0,180.0,240.0,392.0,456.0,622.0,288.0,345.0,142.0,288.0,274.0,704.0,192.0,148.0,606.0,468.0,264.0,510.0,698.0,214.0,381.0,521.0,224.0,306.0,376.0,101.0,512.0,312.0,412.0,478.0,272.0,126.0,659.0,288.0,266.0,468.0,362.0,602.0,236.0,476.0,632.0,448.0,174.0,423.0,1456.0,320.0,496.0,183.0,175.0,542.0,438.0,422.0,350.0,451.0,448.0,654.0,248.0,336.0,602.0,516.0,454.0,173.0,144.0,256.0,330.0,526.0,362.0,216.0,630.0,181.0,826.0,380.0,464.0,240.0,284.0,552.0,328.0,356.0,135.0,null,544.0,null,262.0,506.0,507.0,576.0,592.0,630.0,512.0,416.0,156.0,744.0,464.0,384.0,310.0,464.0,944.0,266.0,336.0,1024.0,576.0,416.0,320.0,816.0,513.0,208.0,648.0,512.0,768.0,888.0,364.0,712.0,570.0,104.0,568.0,404.0,176.0,536.0,448.0,864.0,528.0,null,442.0,584.0,752.0,272.0,784.0,560.0,160.0,880.0,160.0,608.0,600.0,720.0,450.0,768.0,840.0,608.0,800.0,433.0,816.0,988.0,310.0,140.0,448.0,664.0,48.0,640.0,462.0,928.0,486.0,256.0,460.0,544.0,1024.0,784.0,800.0,560.0,960.0,800.0,302.0,648.0,200.0,616.0,672.0,960.0,304.0,648.0,848.0,864.0,151.0,80.0,816.0,864.0,839.0,84.0,896.0,194.0,560.0,830.0,591.0,354.0,500.0,648.0,194.0,112.0,432.0,182.0,404.0,480.0,162.0,792.0,560.0,608.0,160.0,384.0,518.0,392.0,704.0,null,832.0,260.0,704.0,252.0,464.0],\"yaxis\":\"y\",\"type\":\"scatter\"}],                        {\"template\":{\"data\":{\"bar\":[{\"error_x\":{\"color\":\"#2a3f5f\"},\"error_y\":{\"color\":\"#2a3f5f\"},\"marker\":{\"line\":{\"color\":\"#E5ECF6\",\"width\":0.5},\"pattern\":{\"fillmode\":\"overlay\",\"size\":10,\"solidity\":0.2}},\"type\":\"bar\"}],\"barpolar\":[{\"marker\":{\"line\":{\"color\":\"#E5ECF6\",\"width\":0.5},\"pattern\":{\"fillmode\":\"overlay\",\"size\":10,\"solidity\":0.2}},\"type\":\"barpolar\"}],\"carpet\":[{\"aaxis\":{\"endlinecolor\":\"#2a3f5f\",\"gridcolor\":\"white\",\"linecolor\":\"white\",\"minorgridcolor\":\"white\",\"startlinecolor\":\"#2a3f5f\"},\"baxis\":{\"endlinecolor\":\"#2a3f5f\",\"gridcolor\":\"white\",\"linecolor\":\"white\",\"minorgridcolor\":\"white\",\"startlinecolor\":\"#2a3f5f\"},\"type\":\"carpet\"}],\"choropleth\":[{\"colorbar\":{\"outlinewidth\":0,\"ticks\":\"\"},\"type\":\"choropleth\"}],\"contour\":[{\"colorbar\":{\"outlinewidth\":0,\"ticks\":\"\"},\"colorscale\":[[0.0,\"#0d0887\"],[0.1111111111111111,\"#46039f\"],[0.2222222222222222,\"#7201a8\"],[0.3333333333333333,\"#9c179e\"],[0.4444444444444444,\"#bd3786\"],[0.5555555555555556,\"#d8576b\"],[0.6666666666666666,\"#ed7953\"],[0.7777777777777778,\"#fb9f3a\"],[0.8888888888888888,\"#fdca26\"],[1.0,\"#f0f921\"]],\"type\":\"contour\"}],\"contourcarpet\":[{\"colorbar\":{\"outlinewidth\":0,\"ticks\":\"\"},\"type\":\"contourcarpet\"}],\"heatmap\":[{\"colorbar\":{\"outlinewidth\":0,\"ticks\":\"\"},\"colorscale\":[[0.0,\"#0d0887\"],[0.1111111111111111,\"#46039f\"],[0.2222222222222222,\"#7201a8\"],[0.3333333333333333,\"#9c179e\"],[0.4444444444444444,\"#bd3786\"],[0.5555555555555556,\"#d8576b\"],[0.6666666666666666,\"#ed7953\"],[0.7777777777777778,\"#fb9f3a\"],[0.8888888888888888,\"#fdca26\"],[1.0,\"#f0f921\"]],\"type\":\"heatmap\"}],\"heatmapgl\":[{\"colorbar\":{\"outlinewidth\":0,\"ticks\":\"\"},\"colorscale\":[[0.0,\"#0d0887\"],[0.1111111111111111,\"#46039f\"],[0.2222222222222222,\"#7201a8\"],[0.3333333333333333,\"#9c179e\"],[0.4444444444444444,\"#bd3786\"],[0.5555555555555556,\"#d8576b\"],[0.6666666666666666,\"#ed7953\"],[0.7777777777777778,\"#fb9f3a\"],[0.8888888888888888,\"#fdca26\"],[1.0,\"#f0f921\"]],\"type\":\"heatmapgl\"}],\"histogram\":[{\"marker\":{\"pattern\":{\"fillmode\":\"overlay\",\"size\":10,\"solidity\":0.2}},\"type\":\"histogram\"}],\"histogram2d\":[{\"colorbar\":{\"outlinewidth\":0,\"ticks\":\"\"},\"colorscale\":[[0.0,\"#0d0887\"],[0.1111111111111111,\"#46039f\"],[0.2222222222222222,\"#7201a8\"],[0.3333333333333333,\"#9c179e\"],[0.4444444444444444,\"#bd3786\"],[0.5555555555555556,\"#d8576b\"],[0.6666666666666666,\"#ed7953\"],[0.7777777777777778,\"#fb9f3a\"],[0.8888888888888888,\"#fdca26\"],[1.0,\"#f0f921\"]],\"type\":\"histogram2d\"}],\"histogram2dcontour\":[{\"colorbar\":{\"outlinewidth\":0,\"ticks\":\"\"},\"colorscale\":[[0.0,\"#0d0887\"],[0.1111111111111111,\"#46039f\"],[0.2222222222222222,\"#7201a8\"],[0.3333333333333333,\"#9c179e\"],[0.4444444444444444,\"#bd3786\"],[0.5555555555555556,\"#d8576b\"],[0.6666666666666666,\"#ed7953\"],[0.7777777777777778,\"#fb9f3a\"],[0.8888888888888888,\"#fdca26\"],[1.0,\"#f0f921\"]],\"type\":\"histogram2dcontour\"}],\"mesh3d\":[{\"colorbar\":{\"outlinewidth\":0,\"ticks\":\"\"},\"type\":\"mesh3d\"}],\"parcoords\":[{\"line\":{\"colorbar\":{\"outlinewidth\":0,\"ticks\":\"\"}},\"type\":\"parcoords\"}],\"pie\":[{\"automargin\":true,\"type\":\"pie\"}],\"scatter\":[{\"marker\":{\"colorbar\":{\"outlinewidth\":0,\"ticks\":\"\"}},\"type\":\"scatter\"}],\"scatter3d\":[{\"line\":{\"colorbar\":{\"outlinewidth\":0,\"ticks\":\"\"}},\"marker\":{\"colorbar\":{\"outlinewidth\":0,\"ticks\":\"\"}},\"type\":\"scatter3d\"}],\"scattercarpet\":[{\"marker\":{\"colorbar\":{\"outlinewidth\":0,\"ticks\":\"\"}},\"type\":\"scattercarpet\"}],\"scattergeo\":[{\"marker\":{\"colorbar\":{\"outlinewidth\":0,\"ticks\":\"\"}},\"type\":\"scattergeo\"}],\"scattergl\":[{\"marker\":{\"colorbar\":{\"outlinewidth\":0,\"ticks\":\"\"}},\"type\":\"scattergl\"}],\"scattermapbox\":[{\"marker\":{\"colorbar\":{\"outlinewidth\":0,\"ticks\":\"\"}},\"type\":\"scattermapbox\"}],\"scatterpolar\":[{\"marker\":{\"colorbar\":{\"outlinewidth\":0,\"ticks\":\"\"}},\"type\":\"scatterpolar\"}],\"scatterpolargl\":[{\"marker\":{\"colorbar\":{\"outlinewidth\":0,\"ticks\":\"\"}},\"type\":\"scatterpolargl\"}],\"scatterternary\":[{\"marker\":{\"colorbar\":{\"outlinewidth\":0,\"ticks\":\"\"}},\"type\":\"scatterternary\"}],\"surface\":[{\"colorbar\":{\"outlinewidth\":0,\"ticks\":\"\"},\"colorscale\":[[0.0,\"#0d0887\"],[0.1111111111111111,\"#46039f\"],[0.2222222222222222,\"#7201a8\"],[0.3333333333333333,\"#9c179e\"],[0.4444444444444444,\"#bd3786\"],[0.5555555555555556,\"#d8576b\"],[0.6666666666666666,\"#ed7953\"],[0.7777777777777778,\"#fb9f3a\"],[0.8888888888888888,\"#fdca26\"],[1.0,\"#f0f921\"]],\"type\":\"surface\"}],\"table\":[{\"cells\":{\"fill\":{\"color\":\"#EBF0F8\"},\"line\":{\"color\":\"white\"}},\"header\":{\"fill\":{\"color\":\"#C8D4E3\"},\"line\":{\"color\":\"white\"}},\"type\":\"table\"}]},\"layout\":{\"annotationdefaults\":{\"arrowcolor\":\"#2a3f5f\",\"arrowhead\":0,\"arrowwidth\":1},\"autotypenumbers\":\"strict\",\"coloraxis\":{\"colorbar\":{\"outlinewidth\":0,\"ticks\":\"\"}},\"colorscale\":{\"diverging\":[[0,\"#8e0152\"],[0.1,\"#c51b7d\"],[0.2,\"#de77ae\"],[0.3,\"#f1b6da\"],[0.4,\"#fde0ef\"],[0.5,\"#f7f7f7\"],[0.6,\"#e6f5d0\"],[0.7,\"#b8e186\"],[0.8,\"#7fbc41\"],[0.9,\"#4d9221\"],[1,\"#276419\"]],\"sequential\":[[0.0,\"#0d0887\"],[0.1111111111111111,\"#46039f\"],[0.2222222222222222,\"#7201a8\"],[0.3333333333333333,\"#9c179e\"],[0.4444444444444444,\"#bd3786\"],[0.5555555555555556,\"#d8576b\"],[0.6666666666666666,\"#ed7953\"],[0.7777777777777778,\"#fb9f3a\"],[0.8888888888888888,\"#fdca26\"],[1.0,\"#f0f921\"]],\"sequentialminus\":[[0.0,\"#0d0887\"],[0.1111111111111111,\"#46039f\"],[0.2222222222222222,\"#7201a8\"],[0.3333333333333333,\"#9c179e\"],[0.4444444444444444,\"#bd3786\"],[0.5555555555555556,\"#d8576b\"],[0.6666666666666666,\"#ed7953\"],[0.7777777777777778,\"#fb9f3a\"],[0.8888888888888888,\"#fdca26\"],[1.0,\"#f0f921\"]]},\"colorway\":[\"#636efa\",\"#EF553B\",\"#00cc96\",\"#ab63fa\",\"#FFA15A\",\"#19d3f3\",\"#FF6692\",\"#B6E880\",\"#FF97FF\",\"#FECB52\"],\"font\":{\"color\":\"#2a3f5f\"},\"geo\":{\"bgcolor\":\"white\",\"lakecolor\":\"white\",\"landcolor\":\"#E5ECF6\",\"showlakes\":true,\"showland\":true,\"subunitcolor\":\"white\"},\"hoverlabel\":{\"align\":\"left\"},\"hovermode\":\"closest\",\"mapbox\":{\"style\":\"light\"},\"paper_bgcolor\":\"white\",\"plot_bgcolor\":\"#E5ECF6\",\"polar\":{\"angularaxis\":{\"gridcolor\":\"white\",\"linecolor\":\"white\",\"ticks\":\"\"},\"bgcolor\":\"#E5ECF6\",\"radialaxis\":{\"gridcolor\":\"white\",\"linecolor\":\"white\",\"ticks\":\"\"}},\"scene\":{\"xaxis\":{\"backgroundcolor\":\"#E5ECF6\",\"gridcolor\":\"white\",\"gridwidth\":2,\"linecolor\":\"white\",\"showbackground\":true,\"ticks\":\"\",\"zerolinecolor\":\"white\"},\"yaxis\":{\"backgroundcolor\":\"#E5ECF6\",\"gridcolor\":\"white\",\"gridwidth\":2,\"linecolor\":\"white\",\"showbackground\":true,\"ticks\":\"\",\"zerolinecolor\":\"white\"},\"zaxis\":{\"backgroundcolor\":\"#E5ECF6\",\"gridcolor\":\"white\",\"gridwidth\":2,\"linecolor\":\"white\",\"showbackground\":true,\"ticks\":\"\",\"zerolinecolor\":\"white\"}},\"shapedefaults\":{\"line\":{\"color\":\"#2a3f5f\"}},\"ternary\":{\"aaxis\":{\"gridcolor\":\"white\",\"linecolor\":\"white\",\"ticks\":\"\"},\"baxis\":{\"gridcolor\":\"white\",\"linecolor\":\"white\",\"ticks\":\"\"},\"bgcolor\":\"#E5ECF6\",\"caxis\":{\"gridcolor\":\"white\",\"linecolor\":\"white\",\"ticks\":\"\"}},\"title\":{\"x\":0.05},\"xaxis\":{\"automargin\":true,\"gridcolor\":\"white\",\"linecolor\":\"white\",\"ticks\":\"\",\"title\":{\"standoff\":15},\"zerolinecolor\":\"white\",\"zerolinewidth\":2},\"yaxis\":{\"automargin\":true,\"gridcolor\":\"white\",\"linecolor\":\"white\",\"ticks\":\"\",\"title\":{\"standoff\":15},\"zerolinecolor\":\"white\",\"zerolinewidth\":2}}},\"xaxis\":{\"anchor\":\"y\",\"domain\":[0.0,1.0],\"title\":{\"text\":\"price\"}},\"yaxis\":{\"anchor\":\"x\",\"domain\":[0.0,1.0],\"title\":{\"text\":\"pages\"}},\"coloraxis\":{\"colorbar\":{\"title\":{\"text\":\"avg_reviews\"}},\"colorscale\":[[0.0,\"#000000\"],[0.0625,\"#001f4d\"],[0.125,\"#003786\"],[0.1875,\"#0e58a8\"],[0.25,\"#217eb8\"],[0.3125,\"#30a4ca\"],[0.375,\"#54c8df\"],[0.4375,\"#9be4ef\"],[0.5,\"#e1e9d1\"],[0.5625,\"#f3d573\"],[0.625,\"#e7b000\"],[0.6875,\"#da8200\"],[0.75,\"#c65400\"],[0.8125,\"#ac2301\"],[0.875,\"#820000\"],[0.9375,\"#4c0000\"],[1.0,\"#000000\"]]},\"legend\":{\"tracegroupgap\":0,\"itemsizing\":\"constant\"},\"margin\":{\"t\":60}},                        {\"responsive\": true}                    ).then(function(){\n",
              "                            \n",
              "var gd = document.getElementById('4d61c529-d0c6-4453-ac81-127115b9db4e');\n",
              "var x = new MutationObserver(function (mutations, observer) {{\n",
              "        var display = window.getComputedStyle(gd).display;\n",
              "        if (!display || display === 'none') {{\n",
              "            console.log([gd, 'removed!']);\n",
              "            Plotly.purge(gd);\n",
              "            observer.disconnect();\n",
              "        }}\n",
              "}});\n",
              "\n",
              "// Listen for the removal of the full notebook cells\n",
              "var notebookContainer = gd.closest('#notebook-container');\n",
              "if (notebookContainer) {{\n",
              "    x.observe(notebookContainer, {childList: true});\n",
              "}}\n",
              "\n",
              "// Listen for the clearing of the current output cell\n",
              "var outputEl = gd.closest('.output');\n",
              "if (outputEl) {{\n",
              "    x.observe(outputEl, {childList: true});\n",
              "}}\n",
              "\n",
              "                        })                };                            </script>        </div>\n",
              "</body>\n",
              "</html>"
            ]
          },
          "metadata": {}
        }
      ]
    },
    {
      "cell_type": "markdown",
      "source": [
        "#7.0 Z-SCORE#\n",
        "---"
      ],
      "metadata": {
        "id": "V01J51wMpSo7"
      }
    },
    {
      "cell_type": "code",
      "source": [
        "def find_outliers(data_set):\n",
        "    outliers = []\n",
        "    corte_dp = 3\n",
        "    media = np.mean(data_set)\n",
        "    dp = np.std(data_set)\n",
        "    \n",
        "    for dado in data_set:\n",
        "        z_score = (dado - media)/dp \n",
        "        if np.abs(z_score) > corte_dp:\n",
        "            outliers.append(dado)\n",
        "            \n",
        "    return outliers"
      ],
      "metadata": {
        "id": "czj1n698Pn1z"
      },
      "execution_count": null,
      "outputs": []
    },
    {
      "cell_type": "code",
      "source": [
        "outliers_price = find_outliers(data['price'])\n",
        "outliers_price"
      ],
      "metadata": {
        "colab": {
          "base_uri": "https://localhost:8080/"
        },
        "id": "uzcCQkY0Ptz8",
        "outputId": "2da9c988-ebbf-42eb-8ae0-a1b33623a87c"
      },
      "execution_count": null,
      "outputs": [
        {
          "output_type": "execute_result",
          "data": {
            "text/plain": [
              "[179.99,\n",
              " 197.02,\n",
              " 169.99,\n",
              " 169.99,\n",
              " 168.89,\n",
              " 168.7,\n",
              " 177.32,\n",
              " 199.99,\n",
              " 179.0,\n",
              " 174.64,\n",
              " 165.0,\n",
              " 179.0,\n",
              " 169.99,\n",
              " 179.95,\n",
              " 170.15,\n",
              " 223.99,\n",
              " 188.73,\n",
              " 197.32,\n",
              " 215.32,\n",
              " 240.34,\n",
              " 179.14,\n",
              " 279.95,\n",
              " 189.99,\n",
              " 181.35,\n",
              " 197.32,\n",
              " 191.99,\n",
              " 170.66,\n",
              " 191.99,\n",
              " 253.32,\n",
              " 223.98,\n",
              " 171.47,\n",
              " 181.32,\n",
              " 186.66]"
            ]
          },
          "metadata": {},
          "execution_count": 16
        }
      ]
    },
    {
      "cell_type": "code",
      "source": [
        "outliers_pages = find_outliers(data['pages'])\n",
        "outliers_pages"
      ],
      "metadata": {
        "colab": {
          "base_uri": "https://localhost:8080/"
        },
        "id": "JmrcM7dbPvJf",
        "outputId": "fc41ec37-3751-42b5-c8bf-bc1c1202441a"
      },
      "execution_count": null,
      "outputs": [
        {
          "output_type": "execute_result",
          "data": {
            "text/plain": [
              "[1168.0, 1096.0, 1728.0, 1200.0, 1104.0, 1160.0, 1456.0]"
            ]
          },
          "metadata": {},
          "execution_count": 17
        }
      ]
    },
    {
      "cell_type": "markdown",
      "source": [
        "#8.0 GRÁFICOS RELAÇÃO PREÇO-PÁGINAS#\n",
        "---"
      ],
      "metadata": {
        "id": "kYsfskJRpdhw"
      }
    },
    {
      "cell_type": "code",
      "source": [
        "pages_price = pd.DataFrame({'pages' : new_data['pages'],\n",
        "                        'price' : new_data['price']})"
      ],
      "metadata": {
        "id": "E_QfFLGgi975"
      },
      "execution_count": null,
      "outputs": []
    },
    {
      "cell_type": "markdown",
      "source": [
        "##8.1 Preço##"
      ],
      "metadata": {
        "id": "cF52GwmIr1rv"
      }
    },
    {
      "cell_type": "markdown",
      "source": [
        "###8.1.1 Com Outliers###"
      ],
      "metadata": {
        "id": "xUzNZND8sJNX"
      }
    },
    {
      "cell_type": "code",
      "source": [
        "ax = sns.distplot(pages_price.query('price<280')['price'])\n",
        "ax.figure.set_size_inches(12,6)\n",
        "ax"
      ],
      "metadata": {
        "colab": {
          "base_uri": "https://localhost:8080/",
          "height": 495
        },
        "id": "14OTNQXMQQ2s",
        "outputId": "da06a919-aead-4b71-a3cd-d4f3c463ab0c"
      },
      "execution_count": null,
      "outputs": [
        {
          "output_type": "stream",
          "name": "stderr",
          "text": [
            "/usr/local/lib/python3.7/dist-packages/seaborn/distributions.py:2619: FutureWarning:\n",
            "\n",
            "`distplot` is a deprecated function and will be removed in a future version. Please adapt your code to use either `displot` (a figure-level function with similar flexibility) or `histplot` (an axes-level function for histograms).\n",
            "\n"
          ]
        },
        {
          "output_type": "execute_result",
          "data": {
            "text/plain": [
              "<matplotlib.axes._subplots.AxesSubplot at 0x7ff853997110>"
            ]
          },
          "metadata": {},
          "execution_count": 56
        },
        {
          "output_type": "display_data",
          "data": {
            "text/plain": [
              "<Figure size 864x432 with 1 Axes>"
            ],
            "image/png": "[encoded data removed]"
          },
          "metadata": {
            "needs_background": "light"
          }
        }
      ]
    },
    {
      "cell_type": "markdown",
      "source": [
        "###8.1.2 Sem Outliers###"
      ],
      "metadata": {
        "id": "VVXHnrkqsRKv"
      }
    },
    {
      "cell_type": "code",
      "source": [
        "preco = data['price']\n",
        "\n",
        "sem_outlier = []\n",
        "\n",
        "for x in preco:\n",
        "    if x < 165:\n",
        "        sem_outlier.append(x)"
      ],
      "metadata": {
        "id": "e-WjVwYSQRSs"
      },
      "execution_count": null,
      "outputs": []
    },
    {
      "cell_type": "code",
      "source": [
        "ax = sns.distplot(sem_outlier)\n",
        "ax.figure.set_size_inches(12,6)\n",
        "ax"
      ],
      "metadata": {
        "colab": {
          "base_uri": "https://localhost:8080/"
        },
        "id": "VQiSRUccQRh0",
        "outputId": "dbd5b544-840d-4945-97bc-5aa28775863b"
      },
      "execution_count": null,
      "outputs": [
        {
          "output_type": "stream",
          "name": "stderr",
          "text": [
            "/usr/local/lib/python3.7/dist-packages/seaborn/distributions.py:2619: FutureWarning:\n",
            "\n",
            "`distplot` is a deprecated function and will be removed in a future version. Please adapt your code to use either `displot` (a figure-level function with similar flexibility) or `histplot` (an axes-level function for histograms).\n",
            "\n"
          ]
        },
        {
          "output_type": "execute_result",
          "data": {
            "text/plain": [
              "<matplotlib.axes._subplots.AxesSubplot at 0x7ff853d8b750>"
            ]
          },
          "metadata": {},
          "execution_count": 21
        },
        {
          "output_type": "display_data",
          "data": {
            "text/plain": [
              "<Figure size 864x432 with 1 Axes>"
            ],
            "image/png": "[encoded data removed]"
          },
          "metadata": {
            "needs_background": "light"
          }
        }
      ]
    },
    {
      "cell_type": "markdown",
      "source": [
        "##8.2 Páginas##"
      ],
      "metadata": {
        "id": "vX7FsA4Hsd_3"
      }
    },
    {
      "cell_type": "markdown",
      "source": [
        "###8.2.1 Com Outliers###"
      ],
      "metadata": {
        "id": "IXT0-Z7hspiU"
      }
    },
    {
      "cell_type": "code",
      "source": [
        "maximo = pd.Series.max(data['pages'])\n",
        "maximo"
      ],
      "metadata": {
        "colab": {
          "base_uri": "https://localhost:8080/"
        },
        "id": "FANU5VjCSvvN",
        "outputId": "09309f47-214b-45e9-d755-d28e11b8f953"
      },
      "execution_count": null,
      "outputs": [
        {
          "output_type": "execute_result",
          "data": {
            "text/plain": [
              "1728.0"
            ]
          },
          "metadata": {},
          "execution_count": 22
        }
      ]
    },
    {
      "cell_type": "code",
      "source": [
        "ax = sns.distplot(pages_price.query('pages<1728')['pages'])\n",
        "ax.figure.set_size_inches(12,6)\n",
        "ax"
      ],
      "metadata": {
        "colab": {
          "base_uri": "https://localhost:8080/"
        },
        "id": "1WvujV64QR6k",
        "outputId": "5c590bb8-4402-47cb-f086-8bc70f5eef1b"
      },
      "execution_count": null,
      "outputs": [
        {
          "output_type": "stream",
          "name": "stderr",
          "text": [
            "/usr/local/lib/python3.7/dist-packages/seaborn/distributions.py:2619: FutureWarning:\n",
            "\n",
            "`distplot` is a deprecated function and will be removed in a future version. Please adapt your code to use either `displot` (a figure-level function with similar flexibility) or `histplot` (an axes-level function for histograms).\n",
            "\n"
          ]
        },
        {
          "output_type": "execute_result",
          "data": {
            "text/plain": [
              "<matplotlib.axes._subplots.AxesSubplot at 0x7ff853c5f750>"
            ]
          },
          "metadata": {},
          "execution_count": 23
        },
        {
          "output_type": "display_data",
          "data": {
            "text/plain": [
              "<Figure size 864x432 with 1 Axes>"
            ],
            "image/png": "[encoded data removed]"
          },
          "metadata": {
            "needs_background": "light"
          }
        }
      ]
    },
    {
      "cell_type": "markdown",
      "source": [
        "###8.2.2 Sem Outliers###"
      ],
      "metadata": {
        "id": "E0d_lze6s0Sv"
      }
    },
    {
      "cell_type": "code",
      "source": [
        "paginas = data['pages']\n",
        "\n",
        "sem_outlier_pages = []\n",
        "\n",
        "for x in paginas:\n",
        "    if x < 1096:\n",
        "        sem_outlier_pages.append(x)"
      ],
      "metadata": {
        "id": "GypxiO2VR0TO"
      },
      "execution_count": null,
      "outputs": []
    },
    {
      "cell_type": "code",
      "source": [
        "ax = sns.distplot(sem_outlier_pages)\n",
        "ax.figure.set_size_inches(12,6)\n",
        "ax"
      ],
      "metadata": {
        "colab": {
          "base_uri": "https://localhost:8080/"
        },
        "id": "c-fQ5zAhR0lt",
        "outputId": "254c775d-ebd0-4a5a-b474-634fc7626afe"
      },
      "execution_count": null,
      "outputs": [
        {
          "output_type": "stream",
          "name": "stderr",
          "text": [
            "/usr/local/lib/python3.7/dist-packages/seaborn/distributions.py:2619: FutureWarning:\n",
            "\n",
            "`distplot` is a deprecated function and will be removed in a future version. Please adapt your code to use either `displot` (a figure-level function with similar flexibility) or `histplot` (an axes-level function for histograms).\n",
            "\n"
          ]
        },
        {
          "output_type": "execute_result",
          "data": {
            "text/plain": [
              "<matplotlib.axes._subplots.AxesSubplot at 0x7ff853ba5310>"
            ]
          },
          "metadata": {},
          "execution_count": 25
        },
        {
          "output_type": "display_data",
          "data": {
            "text/plain": [
              "<Figure size 864x432 with 1 Axes>"
            ],
            "image/png": "[encoded data removed]"
          },
          "metadata": {
            "needs_background": "light"
          }
        }
      ]
    },
    {
      "cell_type": "markdown",
      "source": [
        "#9.0 MODELO E CORRELAÇÕES#\n",
        "---"
      ],
      "metadata": {
        "id": "bEgiHgIGqDku"
      }
    },
    {
      "cell_type": "code",
      "source": [
        "#preenchendo os valores nulos da coluna: price\n",
        "precos=new_data['price']\n",
        "minimo=pd.Series.min(precos)\n",
        "maximo=pd.Series.max(precos)\n",
        "print(f'maximo:{maximo}\\nminimo:{minimo}')"
      ],
      "metadata": {
        "colab": {
          "base_uri": "https://localhost:8080/"
        },
        "id": "1x6djgSzd8Px",
        "outputId": "ee0d70b7-30c3-4fd4-e8d3-406a6c28fa5b"
      },
      "execution_count": null,
      "outputs": [
        {
          "output_type": "stream",
          "name": "stdout",
          "text": [
            "maximo:279.95\n",
            "minimo:4.73\n"
          ]
        }
      ]
    },
    {
      "cell_type": "code",
      "source": [
        "mediana=sts.median(precos)\n",
        "media=pd.Series.mean(precos)\n",
        "print(f'mediana:{mediana}\\nmédia:{media}')"
      ],
      "metadata": {
        "colab": {
          "base_uri": "https://localhost:8080/"
        },
        "id": "qtoTPO4cTs1F",
        "outputId": "a3d3fb99-5537-4bb3-e5ae-48d672985163"
      },
      "execution_count": null,
      "outputs": [
        {
          "output_type": "stream",
          "name": "stdout",
          "text": [
            "mediana:29.99\n",
            "média:52.10352754237289\n"
          ]
        }
      ]
    },
    {
      "cell_type": "code",
      "source": [
        "media_price=new_data['price'].fillna(media,inplace=True)"
      ],
      "metadata": {
        "id": "LJwL1xiekhD3"
      },
      "execution_count": null,
      "outputs": []
    },
    {
      "cell_type": "code",
      "source": [
        "precos=new_data['price']\n",
        "media=pd.Series.mean(precos)"
      ],
      "metadata": {
        "id": "BnQlm8UrR1wl"
      },
      "execution_count": null,
      "outputs": []
    },
    {
      "cell_type": "code",
      "source": [
        "media_price=new_data['price'].fillna(media,inplace=True)"
      ],
      "metadata": {
        "id": "qDqMdsOQUnQe"
      },
      "execution_count": null,
      "outputs": []
    },
    {
      "cell_type": "code",
      "source": [
        "moda_p=new_data['pages'].mode()\n",
        "moda_pages=new_data['pages'].fillna(moda_p[0],inplace=True)"
      ],
      "metadata": {
        "id": "02bIcEGeklL-"
      },
      "execution_count": null,
      "outputs": []
    },
    {
      "cell_type": "code",
      "source": [
        "pages_price=pd.DataFrame({'pages' : new_data['pages'],\n",
        "                        'price' : new_data['price']})"
      ],
      "metadata": {
        "id": "J6lKYKibklXY"
      },
      "execution_count": null,
      "outputs": []
    },
    {
      "cell_type": "code",
      "source": [
        "mediana=sts.median(precos)\n",
        "media=pd.Series.mean(precos)\n",
        "print(f'mediana:{mediana}\\nmédia:{media}')"
      ],
      "metadata": {
        "colab": {
          "base_uri": "https://localhost:8080/"
        },
        "id": "T_rzWC7WkqBt",
        "outputId": "98aaede3-b605-4cca-b93e-bca9b6be05ef"
      },
      "execution_count": null,
      "outputs": [
        {
          "output_type": "stream",
          "name": "stdout",
          "text": [
            "mediana:44.185\n",
            "média:52.10352754237289\n"
          ]
        }
      ]
    },
    {
      "cell_type": "code",
      "source": [
        "moda=sts.mode(new_data['pages'])\n",
        "mediana=sts.median(new_data['pages'])\n",
        "media=pd.Series.mean(new_data['pages'])\n",
        "print(f'mediana:{mediana}\\nmédia:{media}\\nmoda:{moda}')"
      ],
      "metadata": {
        "colab": {
          "base_uri": "https://localhost:8080/"
        },
        "id": "EIV3Ravxk6B9",
        "outputId": "c3d5673e-8de1-4cbe-e76c-90d26fa5b796"
      },
      "execution_count": null,
      "outputs": [
        {
          "output_type": "stream",
          "name": "stdout",
          "text": [
            "mediana:384.0\n",
            "média:418.9080338266385\n",
            "moda:384.0\n"
          ]
        }
      ]
    },
    {
      "cell_type": "markdown",
      "source": [
        "##9.1 Regressão Linear##\n",
        "---"
      ],
      "metadata": {
        "id": "KTALuEjxtFs5"
      }
    },
    {
      "cell_type": "code",
      "source": [
        "price=pages_price.iloc[:,0].values\n",
        "pages=pages_price.iloc[:,1].values"
      ],
      "metadata": {
        "id": "joFmo3lOk9me"
      },
      "execution_count": null,
      "outputs": []
    },
    {
      "cell_type": "code",
      "source": [
        "Pages=pages.reshape(-1,1)\n",
        "Price=price.reshape(-1,1)"
      ],
      "metadata": {
        "id": "-BLoYGMvlAKl"
      },
      "execution_count": null,
      "outputs": []
    },
    {
      "cell_type": "code",
      "source": [
        "# Separando os dados em treino e teste\n",
        "# Separando os dados transformados em X e y\n",
        "X = Pages\n",
        "y = Price\n",
        "X_train, X_test, y_train, y_test = train_test_split(X, y, test_size=0.2, random_state=42)\n",
        "\n",
        "# Treinando o modelo com os conjuntos de treino\n",
        "lin_reg = LinearRegression()\n",
        "model = lin_reg.fit(X_train, y_train)"
      ],
      "metadata": {
        "id": "pmIWnzbKlEQJ"
      },
      "execution_count": null,
      "outputs": []
    },
    {
      "cell_type": "code",
      "source": [
        "# Gerando as previsões\n",
        "y_pred = model.predict(X_test)\n",
        "\n",
        "# Plotando o valor previsto x valor real, a relação entre os dois deve ser linear\n",
        "ax = plt.scatter(y_pred, y_test)\n",
        "ax.figure.set_size_inches(12, 6)\n",
        "plt.title('Previsão x Real', fontdict={'fontsize': 16})\n",
        "plt.xlabel('Preço - Previsão', fontdict={'fontsize': 16})\n",
        "plt.ylabel('Preço - Real', fontdict={'fontsize': 16})\n",
        "ax\n",
        "\n",
        "# Mostrando o valor do R²\n",
        "print('R² =', metrics.r2_score(y_true=y_test, y_pred=y_pred))"
      ],
      "metadata": {
        "colab": {
          "base_uri": "https://localhost:8080/"
        },
        "id": "OHKbOcPolHt2",
        "outputId": "e70e8409-b0c6-4583-b91e-60cb39ea7356"
      },
      "execution_count": null,
      "outputs": [
        {
          "output_type": "stream",
          "name": "stdout",
          "text": [
            "R² = 0.16371223250481104\n"
          ]
        },
        {
          "output_type": "display_data",
          "data": {
            "text/plain": [
              "<Figure size 864x432 with 1 Axes>"
            ],
            "image/png": "[encoded data removed]"
          },
          "metadata": {
            "needs_background": "light"
          }
        }
      ]
    },
    {
      "cell_type": "code",
      "source": [
        "correlacao_pages_price=np.corrcoef(pages,price)\n",
        "correlacao_pages_price"
      ],
      "metadata": {
        "colab": {
          "base_uri": "https://localhost:8080/"
        },
        "id": "Z_e3LF3jl_Ua",
        "outputId": "dc37b7c4-b99f-4925-8ae4-35e71aa78467"
      },
      "execution_count": null,
      "outputs": [
        {
          "output_type": "execute_result",
          "data": {
            "text/plain": [
              "array([[1.        , 0.43799109],\n",
              "       [0.43799109, 1.        ]])"
            ]
          },
          "metadata": {},
          "execution_count": 39
        }
      ]
    },
    {
      "cell_type": "markdown",
      "source": [
        "##9.2 Correlações Das Classificações##"
      ],
      "metadata": {
        "id": "UXo9htqVjdUu"
      }
    },
    {
      "cell_type": "code",
      "source": [
        "price_stars=pd.DataFrame({'star1' : new_data['star1'],\n",
        "                        'star2': new_data['star2'],\n",
        "                        'star3': new_data['star3'],\n",
        "                        'star4': new_data['star4'],\n",
        "                        'star5': new_data['star5'],\n",
        "                        'price' : new_data['price'],})\n",
        "price_stars"
      ],
      "metadata": {
        "colab": {
          "base_uri": "https://localhost:8080/"
        },
        "id": "05UCdMv8Uey3",
        "outputId": "9ca4f82c-ebe1-48d2-8bc1-081096da5266"
      },
      "execution_count": null,
      "outputs": [
        {
          "output_type": "execute_result",
          "data": {
            "text/plain": [
              "     star1  star2  star3  star4  star5   price\n",
              "0     0.01   0.02   0.05   0.18   0.74   24.49\n",
              "1     0.04   0.03   0.06   0.10   0.77   26.00\n",
              "2     0.00   0.00   0.00   0.04   0.96   50.76\n",
              "3     0.05   0.05   0.05   0.05   0.79   44.80\n",
              "4     0.03   0.03   0.08   0.15   0.71   36.99\n",
              "..     ...    ...    ...    ...    ...     ...\n",
              "941   0.03   0.02   0.06   0.16   0.74   28.33\n",
              "942   0.00   0.00   0.19   0.11   0.70   59.23\n",
              "943   0.05   0.01   0.07   0.14   0.72  129.99\n",
              "944   0.04   0.02   0.04   0.13   0.78   47.76\n",
              "945   0.03   0.03   0.08   0.18   0.69   15.55\n",
              "\n",
              "[946 rows x 6 columns]"
            ],
            "text/html": [
              "\n",
              "  <div id=\"df-90d18985-bd47-4719-a5b5-caf962048048\">\n",
              "    <div class=\"colab-df-container\">\n",
              "      <div>\n",
              "<style scoped>\n",
              "    .dataframe tbody tr th:only-of-type {\n",
              "        vertical-align: middle;\n",
              "    }\n",
              "\n",
              "    .dataframe tbody tr th {\n",
              "        vertical-align: top;\n",
              "    }\n",
              "\n",
              "    .dataframe thead th {\n",
              "        text-align: right;\n",
              "    }\n",
              "</style>\n",
              "<table border=\"1\" class=\"dataframe\">\n",
              "  <thead>\n",
              "    <tr style=\"text-align: right;\">\n",
              "      <th></th>\n",
              "      <th>star1</th>\n",
              "      <th>star2</th>\n",
              "      <th>star3</th>\n",
              "      <th>star4</th>\n",
              "      <th>star5</th>\n",
              "      <th>price</th>\n",
              "    </tr>\n",
              "  </thead>\n",
              "  <tbody>\n",
              "    <tr>\n",
              "      <th>0</th>\n",
              "      <td>0.01</td>\n",
              "      <td>0.02</td>\n",
              "      <td>0.05</td>\n",
              "      <td>0.18</td>\n",
              "      <td>0.74</td>\n",
              "      <td>24.49</td>\n",
              "    </tr>\n",
              "    <tr>\n",
              "      <th>1</th>\n",
              "      <td>0.04</td>\n",
              "      <td>0.03</td>\n",
              "      <td>0.06</td>\n",
              "      <td>0.10</td>\n",
              "      <td>0.77</td>\n",
              "      <td>26.00</td>\n",
              "    </tr>\n",
              "    <tr>\n",
              "      <th>2</th>\n",
              "      <td>0.00</td>\n",
              "      <td>0.00</td>\n",
              "      <td>0.00</td>\n",
              "      <td>0.04</td>\n",
              "      <td>0.96</td>\n",
              "      <td>50.76</td>\n",
              "    </tr>\n",
              "    <tr>\n",
              "      <th>3</th>\n",
              "      <td>0.05</td>\n",
              "      <td>0.05</td>\n",
              "      <td>0.05</td>\n",
              "      <td>0.05</td>\n",
              "      <td>0.79</td>\n",
              "      <td>44.80</td>\n",
              "    </tr>\n",
              "    <tr>\n",
              "      <th>4</th>\n",
              "      <td>0.03</td>\n",
              "      <td>0.03</td>\n",
              "      <td>0.08</td>\n",
              "      <td>0.15</td>\n",
              "      <td>0.71</td>\n",
              "      <td>36.99</td>\n",
              "    </tr>\n",
              "    <tr>\n",
              "      <th>...</th>\n",
              "      <td>...</td>\n",
              "      <td>...</td>\n",
              "      <td>...</td>\n",
              "      <td>...</td>\n",
              "      <td>...</td>\n",
              "      <td>...</td>\n",
              "    </tr>\n",
              "    <tr>\n",
              "      <th>941</th>\n",
              "      <td>0.03</td>\n",
              "      <td>0.02</td>\n",
              "      <td>0.06</td>\n",
              "      <td>0.16</td>\n",
              "      <td>0.74</td>\n",
              "      <td>28.33</td>\n",
              "    </tr>\n",
              "    <tr>\n",
              "      <th>942</th>\n",
              "      <td>0.00</td>\n",
              "      <td>0.00</td>\n",
              "      <td>0.19</td>\n",
              "      <td>0.11</td>\n",
              "      <td>0.70</td>\n",
              "      <td>59.23</td>\n",
              "    </tr>\n",
              "    <tr>\n",
              "      <th>943</th>\n",
              "      <td>0.05</td>\n",
              "      <td>0.01</td>\n",
              "      <td>0.07</td>\n",
              "      <td>0.14</td>\n",
              "      <td>0.72</td>\n",
              "      <td>129.99</td>\n",
              "    </tr>\n",
              "    <tr>\n",
              "      <th>944</th>\n",
              "      <td>0.04</td>\n",
              "      <td>0.02</td>\n",
              "      <td>0.04</td>\n",
              "      <td>0.13</td>\n",
              "      <td>0.78</td>\n",
              "      <td>47.76</td>\n",
              "    </tr>\n",
              "    <tr>\n",
              "      <th>945</th>\n",
              "      <td>0.03</td>\n",
              "      <td>0.03</td>\n",
              "      <td>0.08</td>\n",
              "      <td>0.18</td>\n",
              "      <td>0.69</td>\n",
              "      <td>15.55</td>\n",
              "    </tr>\n",
              "  </tbody>\n",
              "</table>\n",
              "<p>946 rows × 6 columns</p>\n",
              "</div>\n",
              "      <button class=\"colab-df-convert\" onclick=\"convertToInteractive('df-90d18985-bd47-4719-a5b5-caf962048048')\"\n",
              "              title=\"Convert this dataframe to an interactive table.\"\n",
              "              style=\"display:none;\">\n",
              "        \n",
              "  <svg xmlns=\"http://www.w3.org/2000/svg\" height=\"24px\"viewBox=\"0 0 24 24\"\n",
              "       width=\"24px\">\n",
              "    <path d=\"M0 0h24v24H0V0z\" fill=\"none\"/>\n",
              "    <path d=\"M18.56 5.44l.94 2.06.94-2.06 2.06-.94-2.06-.94-.94-2.06-.94 2.06-2.06.94zm-11 1L8.5 8.5l.94-2.06 2.06-.94-2.06-.94L8.5 2.5l-.94 2.06-2.06.94zm10 10l.94 2.06.94-2.06 2.06-.94-2.06-.94-.94-2.06-.94 2.06-2.06.94z\"/><path d=\"M17.41 7.96l-1.37-1.37c-.4-.4-.92-.59-1.43-.59-.52 0-1.04.2-1.43.59L10.3 9.45l-7.72 7.72c-.78.78-.78 2.05 0 2.83L4 21.41c.39.39.9.59 1.41.59.51 0 1.02-.2 1.41-.59l7.78-7.78 2.81-2.81c.8-.78.8-2.07 0-2.86zM5.41 20L4 18.59l7.72-7.72 1.47 1.35L5.41 20z\"/>\n",
              "  </svg>\n",
              "      </button>\n",
              "      \n",
              "  <style>\n",
              "    .colab-df-container {\n",
              "      display:flex;\n",
              "      flex-wrap:wrap;\n",
              "      gap: 12px;\n",
              "    }\n",
              "\n",
              "    .colab-df-convert {\n",
              "      background-color: #E8F0FE;\n",
              "      border: none;\n",
              "      border-radius: 50%;\n",
              "      cursor: pointer;\n",
              "      display: none;\n",
              "      fill: #1967D2;\n",
              "      height: 32px;\n",
              "      padding: 0 0 0 0;\n",
              "      width: 32px;\n",
              "    }\n",
              "\n",
              "    .colab-df-convert:hover {\n",
              "      background-color: #E2EBFA;\n",
              "      box-shadow: 0px 1px 2px rgba(60, 64, 67, 0.3), 0px 1px 3px 1px rgba(60, 64, 67, 0.15);\n",
              "      fill: #174EA6;\n",
              "    }\n",
              "\n",
              "    [theme=dark] .colab-df-convert {\n",
              "      background-color: #3B4455;\n",
              "      fill: #D2E3FC;\n",
              "    }\n",
              "\n",
              "    [theme=dark] .colab-df-convert:hover {\n",
              "      background-color: #434B5C;\n",
              "      box-shadow: 0px 1px 3px 1px rgba(0, 0, 0, 0.15);\n",
              "      filter: drop-shadow(0px 1px 2px rgba(0, 0, 0, 0.3));\n",
              "      fill: #FFFFFF;\n",
              "    }\n",
              "  </style>\n",
              "\n",
              "      <script>\n",
              "        const buttonEl =\n",
              "          document.querySelector('#df-90d18985-bd47-4719-a5b5-caf962048048 button.colab-df-convert');\n",
              "        buttonEl.style.display =\n",
              "          google.colab.kernel.accessAllowed ? 'block' : 'none';\n",
              "\n",
              "        async function convertToInteractive(key) {\n",
              "          const element = document.querySelector('#df-90d18985-bd47-4719-a5b5-caf962048048');\n",
              "          const dataTable =\n",
              "            await google.colab.kernel.invokeFunction('convertToInteractive',\n",
              "                                                     [key], {});\n",
              "          if (!dataTable) return;\n",
              "\n",
              "          const docLinkHtml = 'Like what you see? Visit the ' +\n",
              "            '<a target=\"_blank\" href=https://colab.research.google.com/notebooks/data_table.ipynb>data table notebook</a>'\n",
              "            + ' to learn more about interactive tables.';\n",
              "          element.innerHTML = '';\n",
              "          dataTable['output_type'] = 'display_data';\n",
              "          await google.colab.output.renderOutput(dataTable, element);\n",
              "          const docLink = document.createElement('div');\n",
              "          docLink.innerHTML = docLinkHtml;\n",
              "          element.appendChild(docLink);\n",
              "        }\n",
              "      </script>\n",
              "    </div>\n",
              "  </div>\n",
              "  "
            ]
          },
          "metadata": {},
          "execution_count": 40
        }
      ]
    },
    {
      "cell_type": "markdown",
      "source": [
        "###9.2.1 Preço e Classificações###"
      ],
      "metadata": {
        "id": "h4Y_BbvWuC-w"
      }
    },
    {
      "cell_type": "code",
      "source": [
        "price_stars.corr().style.background_gradient(cmap='Blues')"
      ],
      "metadata": {
        "colab": {
          "base_uri": "https://localhost:8080/"
        },
        "id": "T2Kbk2pJPIyF",
        "outputId": "b473753a-7ef5-4f89-fad0-5950cd49ca58"
      },
      "execution_count": null,
      "outputs": [
        {
          "output_type": "execute_result",
          "data": {
            "text/plain": [
              "<pandas.io.formats.style.Styler at 0x7ff853af2cd0>"
            ],
            "text/html": [
              "<style type=\"text/css\">\n",
              "#T_61a89_row0_col0, #T_61a89_row1_col1, #T_61a89_row2_col2, #T_61a89_row3_col3, #T_61a89_row4_col4, #T_61a89_row5_col5 {\n",
              "  background-color: #08306b;\n",
              "  color: #f1f1f1;\n",
              "}\n",
              "#T_61a89_row0_col1 {\n",
              "  background-color: #a0cbe2;\n",
              "  color: #000000;\n",
              "}\n",
              "#T_61a89_row0_col2 {\n",
              "  background-color: #bdd7ec;\n",
              "  color: #000000;\n",
              "}\n",
              "#T_61a89_row0_col3 {\n",
              "  background-color: #d9e8f5;\n",
              "  color: #000000;\n",
              "}\n",
              "#T_61a89_row0_col4, #T_61a89_row4_col2 {\n",
              "  background-color: #e4eff9;\n",
              "  color: #000000;\n",
              "}\n",
              "#T_61a89_row0_col5 {\n",
              "  background-color: #d1e2f3;\n",
              "  color: #000000;\n",
              "}\n",
              "#T_61a89_row1_col0, #T_61a89_row3_col2 {\n",
              "  background-color: #a9cfe5;\n",
              "  color: #000000;\n",
              "}\n",
              "#T_61a89_row1_col2 {\n",
              "  background-color: #6aaed6;\n",
              "  color: #f1f1f1;\n",
              "}\n",
              "#T_61a89_row1_col3 {\n",
              "  background-color: #ccdff1;\n",
              "  color: #000000;\n",
              "}\n",
              "#T_61a89_row1_col4 {\n",
              "  background-color: #eef5fc;\n",
              "  color: #000000;\n",
              "}\n",
              "#T_61a89_row1_col5 {\n",
              "  background-color: #dfecf7;\n",
              "  color: #000000;\n",
              "}\n",
              "#T_61a89_row2_col0 {\n",
              "  background-color: #d3e4f3;\n",
              "  color: #000000;\n",
              "}\n",
              "#T_61a89_row2_col1 {\n",
              "  background-color: #7ab6d9;\n",
              "  color: #000000;\n",
              "}\n",
              "#T_61a89_row2_col3 {\n",
              "  background-color: #a1cbe2;\n",
              "  color: #000000;\n",
              "}\n",
              "#T_61a89_row2_col4 {\n",
              "  background-color: #eaf3fb;\n",
              "  color: #000000;\n",
              "}\n",
              "#T_61a89_row2_col5 {\n",
              "  background-color: #f0f6fd;\n",
              "  color: #000000;\n",
              "}\n",
              "#T_61a89_row3_col0, #T_61a89_row3_col5, #T_61a89_row4_col1, #T_61a89_row5_col2, #T_61a89_row5_col3, #T_61a89_row5_col4 {\n",
              "  background-color: #f7fbff;\n",
              "  color: #000000;\n",
              "}\n",
              "#T_61a89_row3_col1 {\n",
              "  background-color: #dfebf7;\n",
              "  color: #000000;\n",
              "}\n",
              "#T_61a89_row3_col4 {\n",
              "  background-color: #dce9f6;\n",
              "  color: #000000;\n",
              "}\n",
              "#T_61a89_row4_col0 {\n",
              "  background-color: #f6faff;\n",
              "  color: #000000;\n",
              "}\n",
              "#T_61a89_row4_col3 {\n",
              "  background-color: #d0e2f2;\n",
              "  color: #000000;\n",
              "}\n",
              "#T_61a89_row4_col5 {\n",
              "  background-color: #eaf2fb;\n",
              "  color: #000000;\n",
              "}\n",
              "#T_61a89_row5_col0 {\n",
              "  background-color: #edf4fc;\n",
              "  color: #000000;\n",
              "}\n",
              "#T_61a89_row5_col1 {\n",
              "  background-color: #f5fafe;\n",
              "  color: #000000;\n",
              "}\n",
              "</style>\n",
              "<table id=\"T_61a89_\" class=\"dataframe\">\n",
              "  <thead>\n",
              "    <tr>\n",
              "      <th class=\"blank level0\" >&nbsp;</th>\n",
              "      <th class=\"col_heading level0 col0\" >star1</th>\n",
              "      <th class=\"col_heading level0 col1\" >star2</th>\n",
              "      <th class=\"col_heading level0 col2\" >star3</th>\n",
              "      <th class=\"col_heading level0 col3\" >star4</th>\n",
              "      <th class=\"col_heading level0 col4\" >star5</th>\n",
              "      <th class=\"col_heading level0 col5\" >price</th>\n",
              "    </tr>\n",
              "  </thead>\n",
              "  <tbody>\n",
              "    <tr>\n",
              "      <th id=\"T_61a89_level0_row0\" class=\"row_heading level0 row0\" >star1</th>\n",
              "      <td id=\"T_61a89_row0_col0\" class=\"data row0 col0\" >1.000000</td>\n",
              "      <td id=\"T_61a89_row0_col1\" class=\"data row0 col1\" >0.367137</td>\n",
              "      <td id=\"T_61a89_row0_col2\" class=\"data row0 col2\" >0.212710</td>\n",
              "      <td id=\"T_61a89_row0_col3\" class=\"data row0 col3\" >0.038144</td>\n",
              "      <td id=\"T_61a89_row0_col4\" class=\"data row0 col4\" >0.043879</td>\n",
              "      <td id=\"T_61a89_row0_col5\" class=\"data row0 col5\" >0.088923</td>\n",
              "    </tr>\n",
              "    <tr>\n",
              "      <th id=\"T_61a89_level0_row1\" class=\"row_heading level0 row1\" >star2</th>\n",
              "      <td id=\"T_61a89_row1_col0\" class=\"data row1 col0\" >0.367137</td>\n",
              "      <td id=\"T_61a89_row1_col1\" class=\"data row1 col1\" >1.000000</td>\n",
              "      <td id=\"T_61a89_row1_col2\" class=\"data row1 col2\" >0.458149</td>\n",
              "      <td id=\"T_61a89_row1_col3\" class=\"data row1 col3\" >0.117888</td>\n",
              "      <td id=\"T_61a89_row1_col4\" class=\"data row1 col4\" >-0.005893</td>\n",
              "      <td id=\"T_61a89_row1_col5\" class=\"data row1 col5\" >0.005285</td>\n",
              "    </tr>\n",
              "    <tr>\n",
              "      <th id=\"T_61a89_level0_row2\" class=\"row_heading level0 row2\" >star3</th>\n",
              "      <td id=\"T_61a89_row2_col0\" class=\"data row2 col0\" >0.212710</td>\n",
              "      <td id=\"T_61a89_row2_col1\" class=\"data row2 col1\" >0.458149</td>\n",
              "      <td id=\"T_61a89_row2_col2\" class=\"data row2 col2\" >1.000000</td>\n",
              "      <td id=\"T_61a89_row2_col3\" class=\"data row2 col3\" >0.282943</td>\n",
              "      <td id=\"T_61a89_row2_col4\" class=\"data row2 col4\" >0.013784</td>\n",
              "      <td id=\"T_61a89_row2_col5\" class=\"data row2 col5\" >-0.089523</td>\n",
              "    </tr>\n",
              "    <tr>\n",
              "      <th id=\"T_61a89_level0_row3\" class=\"row_heading level0 row3\" >star4</th>\n",
              "      <td id=\"T_61a89_row3_col0\" class=\"data row3 col0\" >0.038144</td>\n",
              "      <td id=\"T_61a89_row3_col1\" class=\"data row3 col1\" >0.117888</td>\n",
              "      <td id=\"T_61a89_row3_col2\" class=\"data row3 col2\" >0.282943</td>\n",
              "      <td id=\"T_61a89_row3_col3\" class=\"data row3 col3\" >1.000000</td>\n",
              "      <td id=\"T_61a89_row3_col4\" class=\"data row3 col4\" >0.092087</td>\n",
              "      <td id=\"T_61a89_row3_col5\" class=\"data row3 col5\" >-0.131196</td>\n",
              "    </tr>\n",
              "    <tr>\n",
              "      <th id=\"T_61a89_level0_row4\" class=\"row_heading level0 row4\" >star5</th>\n",
              "      <td id=\"T_61a89_row4_col0\" class=\"data row4 col0\" >0.043879</td>\n",
              "      <td id=\"T_61a89_row4_col1\" class=\"data row4 col1\" >-0.005893</td>\n",
              "      <td id=\"T_61a89_row4_col2\" class=\"data row4 col2\" >0.013784</td>\n",
              "      <td id=\"T_61a89_row4_col3\" class=\"data row4 col3\" >0.092087</td>\n",
              "      <td id=\"T_61a89_row4_col4\" class=\"data row4 col4\" >1.000000</td>\n",
              "      <td id=\"T_61a89_row4_col5\" class=\"data row4 col5\" >-0.055942</td>\n",
              "    </tr>\n",
              "    <tr>\n",
              "      <th id=\"T_61a89_level0_row5\" class=\"row_heading level0 row5\" >price</th>\n",
              "      <td id=\"T_61a89_row5_col0\" class=\"data row5 col0\" >0.088923</td>\n",
              "      <td id=\"T_61a89_row5_col1\" class=\"data row5 col1\" >0.005285</td>\n",
              "      <td id=\"T_61a89_row5_col2\" class=\"data row5 col2\" >-0.089523</td>\n",
              "      <td id=\"T_61a89_row5_col3\" class=\"data row5 col3\" >-0.131196</td>\n",
              "      <td id=\"T_61a89_row5_col4\" class=\"data row5 col4\" >-0.055942</td>\n",
              "      <td id=\"T_61a89_row5_col5\" class=\"data row5 col5\" >1.000000</td>\n",
              "    </tr>\n",
              "  </tbody>\n",
              "</table>\n"
            ]
          },
          "metadata": {},
          "execution_count": 41
        }
      ]
    },
    {
      "cell_type": "markdown",
      "source": [
        "###9.2.2 Páginas e Classificações###"
      ],
      "metadata": {
        "id": "a25SY3uCuSVj"
      }
    },
    {
      "cell_type": "code",
      "source": [
        "pages_stars=pd.DataFrame({'star1' : new_data['star1'],\n",
        "                        'star2': new_data['star2'],\n",
        "                        'star3': new_data['star3'],\n",
        "                        'star4': new_data['star4'],\n",
        "                        'star5': new_data['star5'],\n",
        "                        'pages' : new_data['pages'],})\n",
        "pages_stars"
      ],
      "metadata": {
        "colab": {
          "base_uri": "https://localhost:8080/"
        },
        "id": "xO5zrD93Onf5",
        "outputId": "4cd2d37a-59d8-4f65-d68a-c8a231b5906b"
      },
      "execution_count": null,
      "outputs": [
        {
          "output_type": "execute_result",
          "data": {
            "text/plain": [
              "     star1  star2  star3  star4  star5  pages\n",
              "0     0.01   0.02   0.05   0.18   0.74  272.0\n",
              "1     0.04   0.03   0.06   0.10   0.77  301.0\n",
              "2     0.00   0.00   0.00   0.04   0.96  446.0\n",
              "3     0.05   0.05   0.05   0.05   0.79  347.0\n",
              "4     0.03   0.03   0.08   0.15   0.71  413.0\n",
              "..     ...    ...    ...    ...    ...    ...\n",
              "941   0.03   0.02   0.06   0.16   0.74  832.0\n",
              "942   0.00   0.00   0.19   0.11   0.70  260.0\n",
              "943   0.05   0.01   0.07   0.14   0.72  704.0\n",
              "944   0.04   0.02   0.04   0.13   0.78  252.0\n",
              "945   0.03   0.03   0.08   0.18   0.69  464.0\n",
              "\n",
              "[946 rows x 6 columns]"
            ],
            "text/html": [
              "\n",
              "  <div id=\"df-37965523-d246-494e-b82f-b57af267f62b\">\n",
              "    <div class=\"colab-df-container\">\n",
              "      <div>\n",
              "<style scoped>\n",
              "    .dataframe tbody tr th:only-of-type {\n",
              "        vertical-align: middle;\n",
              "    }\n",
              "\n",
              "    .dataframe tbody tr th {\n",
              "        vertical-align: top;\n",
              "    }\n",
              "\n",
              "    .dataframe thead th {\n",
              "        text-align: right;\n",
              "    }\n",
              "</style>\n",
              "<table border=\"1\" class=\"dataframe\">\n",
              "  <thead>\n",
              "    <tr style=\"text-align: right;\">\n",
              "      <th></th>\n",
              "      <th>star1</th>\n",
              "      <th>star2</th>\n",
              "      <th>star3</th>\n",
              "      <th>star4</th>\n",
              "      <th>star5</th>\n",
              "      <th>pages</th>\n",
              "    </tr>\n",
              "  </thead>\n",
              "  <tbody>\n",
              "    <tr>\n",
              "      <th>0</th>\n",
              "      <td>0.01</td>\n",
              "      <td>0.02</td>\n",
              "      <td>0.05</td>\n",
              "      <td>0.18</td>\n",
              "      <td>0.74</td>\n",
              "      <td>272.0</td>\n",
              "    </tr>\n",
              "    <tr>\n",
              "      <th>1</th>\n",
              "      <td>0.04</td>\n",
              "      <td>0.03</td>\n",
              "      <td>0.06</td>\n",
              "      <td>0.10</td>\n",
              "      <td>0.77</td>\n",
              "      <td>301.0</td>\n",
              "    </tr>\n",
              "    <tr>\n",
              "      <th>2</th>\n",
              "      <td>0.00</td>\n",
              "      <td>0.00</td>\n",
              "      <td>0.00</td>\n",
              "      <td>0.04</td>\n",
              "      <td>0.96</td>\n",
              "      <td>446.0</td>\n",
              "    </tr>\n",
              "    <tr>\n",
              "      <th>3</th>\n",
              "      <td>0.05</td>\n",
              "      <td>0.05</td>\n",
              "      <td>0.05</td>\n",
              "      <td>0.05</td>\n",
              "      <td>0.79</td>\n",
              "      <td>347.0</td>\n",
              "    </tr>\n",
              "    <tr>\n",
              "      <th>4</th>\n",
              "      <td>0.03</td>\n",
              "      <td>0.03</td>\n",
              "      <td>0.08</td>\n",
              "      <td>0.15</td>\n",
              "      <td>0.71</td>\n",
              "      <td>413.0</td>\n",
              "    </tr>\n",
              "    <tr>\n",
              "      <th>...</th>\n",
              "      <td>...</td>\n",
              "      <td>...</td>\n",
              "      <td>...</td>\n",
              "      <td>...</td>\n",
              "      <td>...</td>\n",
              "      <td>...</td>\n",
              "    </tr>\n",
              "    <tr>\n",
              "      <th>941</th>\n",
              "      <td>0.03</td>\n",
              "      <td>0.02</td>\n",
              "      <td>0.06</td>\n",
              "      <td>0.16</td>\n",
              "      <td>0.74</td>\n",
              "      <td>832.0</td>\n",
              "    </tr>\n",
              "    <tr>\n",
              "      <th>942</th>\n",
              "      <td>0.00</td>\n",
              "      <td>0.00</td>\n",
              "      <td>0.19</td>\n",
              "      <td>0.11</td>\n",
              "      <td>0.70</td>\n",
              "      <td>260.0</td>\n",
              "    </tr>\n",
              "    <tr>\n",
              "      <th>943</th>\n",
              "      <td>0.05</td>\n",
              "      <td>0.01</td>\n",
              "      <td>0.07</td>\n",
              "      <td>0.14</td>\n",
              "      <td>0.72</td>\n",
              "      <td>704.0</td>\n",
              "    </tr>\n",
              "    <tr>\n",
              "      <th>944</th>\n",
              "      <td>0.04</td>\n",
              "      <td>0.02</td>\n",
              "      <td>0.04</td>\n",
              "      <td>0.13</td>\n",
              "      <td>0.78</td>\n",
              "      <td>252.0</td>\n",
              "    </tr>\n",
              "    <tr>\n",
              "      <th>945</th>\n",
              "      <td>0.03</td>\n",
              "      <td>0.03</td>\n",
              "      <td>0.08</td>\n",
              "      <td>0.18</td>\n",
              "      <td>0.69</td>\n",
              "      <td>464.0</td>\n",
              "    </tr>\n",
              "  </tbody>\n",
              "</table>\n",
              "<p>946 rows × 6 columns</p>\n",
              "</div>\n",
              "      <button class=\"colab-df-convert\" onclick=\"convertToInteractive('df-37965523-d246-494e-b82f-b57af267f62b')\"\n",
              "              title=\"Convert this dataframe to an interactive table.\"\n",
              "              style=\"display:none;\">\n",
              "        \n",
              "  <svg xmlns=\"http://www.w3.org/2000/svg\" height=\"24px\"viewBox=\"0 0 24 24\"\n",
              "       width=\"24px\">\n",
              "    <path d=\"M0 0h24v24H0V0z\" fill=\"none\"/>\n",
              "    <path d=\"M18.56 5.44l.94 2.06.94-2.06 2.06-.94-2.06-.94-.94-2.06-.94 2.06-2.06.94zm-11 1L8.5 8.5l.94-2.06 2.06-.94-2.06-.94L8.5 2.5l-.94 2.06-2.06.94zm10 10l.94 2.06.94-2.06 2.06-.94-2.06-.94-.94-2.06-.94 2.06-2.06.94z\"/><path d=\"M17.41 7.96l-1.37-1.37c-.4-.4-.92-.59-1.43-.59-.52 0-1.04.2-1.43.59L10.3 9.45l-7.72 7.72c-.78.78-.78 2.05 0 2.83L4 21.41c.39.39.9.59 1.41.59.51 0 1.02-.2 1.41-.59l7.78-7.78 2.81-2.81c.8-.78.8-2.07 0-2.86zM5.41 20L4 18.59l7.72-7.72 1.47 1.35L5.41 20z\"/>\n",
              "  </svg>\n",
              "      </button>\n",
              "      \n",
              "  <style>\n",
              "    .colab-df-container {\n",
              "      display:flex;\n",
              "      flex-wrap:wrap;\n",
              "      gap: 12px;\n",
              "    }\n",
              "\n",
              "    .colab-df-convert {\n",
              "      background-color: #E8F0FE;\n",
              "      border: none;\n",
              "      border-radius: 50%;\n",
              "      cursor: pointer;\n",
              "      display: none;\n",
              "      fill: #1967D2;\n",
              "      height: 32px;\n",
              "      padding: 0 0 0 0;\n",
              "      width: 32px;\n",
              "    }\n",
              "\n",
              "    .colab-df-convert:hover {\n",
              "      background-color: #E2EBFA;\n",
              "      box-shadow: 0px 1px 2px rgba(60, 64, 67, 0.3), 0px 1px 3px 1px rgba(60, 64, 67, 0.15);\n",
              "      fill: #174EA6;\n",
              "    }\n",
              "\n",
              "    [theme=dark] .colab-df-convert {\n",
              "      background-color: #3B4455;\n",
              "      fill: #D2E3FC;\n",
              "    }\n",
              "\n",
              "    [theme=dark] .colab-df-convert:hover {\n",
              "      background-color: #434B5C;\n",
              "      box-shadow: 0px 1px 3px 1px rgba(0, 0, 0, 0.15);\n",
              "      filter: drop-shadow(0px 1px 2px rgba(0, 0, 0, 0.3));\n",
              "      fill: #FFFFFF;\n",
              "    }\n",
              "  </style>\n",
              "\n",
              "      <script>\n",
              "        const buttonEl =\n",
              "          document.querySelector('#df-37965523-d246-494e-b82f-b57af267f62b button.colab-df-convert');\n",
              "        buttonEl.style.display =\n",
              "          google.colab.kernel.accessAllowed ? 'block' : 'none';\n",
              "\n",
              "        async function convertToInteractive(key) {\n",
              "          const element = document.querySelector('#df-37965523-d246-494e-b82f-b57af267f62b');\n",
              "          const dataTable =\n",
              "            await google.colab.kernel.invokeFunction('convertToInteractive',\n",
              "                                                     [key], {});\n",
              "          if (!dataTable) return;\n",
              "\n",
              "          const docLinkHtml = 'Like what you see? Visit the ' +\n",
              "            '<a target=\"_blank\" href=https://colab.research.google.com/notebooks/data_table.ipynb>data table notebook</a>'\n",
              "            + ' to learn more about interactive tables.';\n",
              "          element.innerHTML = '';\n",
              "          dataTable['output_type'] = 'display_data';\n",
              "          await google.colab.output.renderOutput(dataTable, element);\n",
              "          const docLink = document.createElement('div');\n",
              "          docLink.innerHTML = docLinkHtml;\n",
              "          element.appendChild(docLink);\n",
              "        }\n",
              "      </script>\n",
              "    </div>\n",
              "  </div>\n",
              "  "
            ]
          },
          "metadata": {},
          "execution_count": 42
        }
      ]
    },
    {
      "cell_type": "code",
      "source": [
        "pages_stars.corr().style.background_gradient(cmap='Blues')"
      ],
      "metadata": {
        "colab": {
          "base_uri": "https://localhost:8080/"
        },
        "id": "uPz5JXI_N9GT",
        "outputId": "71c0c13c-84aa-480d-d791-44767b1d74fa"
      },
      "execution_count": null,
      "outputs": [
        {
          "output_type": "execute_result",
          "data": {
            "text/plain": [
              "<pandas.io.formats.style.Styler at 0x7ff853a8ab50>"
            ],
            "text/html": [
              "<style type=\"text/css\">\n",
              "#T_c5aa4_row0_col0, #T_c5aa4_row1_col1, #T_c5aa4_row2_col2, #T_c5aa4_row3_col3, #T_c5aa4_row4_col4, #T_c5aa4_row5_col5 {\n",
              "  background-color: #08306b;\n",
              "  color: #f1f1f1;\n",
              "}\n",
              "#T_c5aa4_row0_col1 {\n",
              "  background-color: #a0cbe2;\n",
              "  color: #000000;\n",
              "}\n",
              "#T_c5aa4_row0_col2 {\n",
              "  background-color: #cadef0;\n",
              "  color: #000000;\n",
              "}\n",
              "#T_c5aa4_row0_col3 {\n",
              "  background-color: #e7f1fa;\n",
              "  color: #000000;\n",
              "}\n",
              "#T_c5aa4_row0_col4 {\n",
              "  background-color: #eef5fc;\n",
              "  color: #000000;\n",
              "}\n",
              "#T_c5aa4_row0_col5 {\n",
              "  background-color: #dae8f6;\n",
              "  color: #000000;\n",
              "}\n",
              "#T_c5aa4_row1_col0 {\n",
              "  background-color: #a9cfe5;\n",
              "  color: #000000;\n",
              "}\n",
              "#T_c5aa4_row1_col2 {\n",
              "  background-color: #77b5d9;\n",
              "  color: #000000;\n",
              "}\n",
              "#T_c5aa4_row1_col3 {\n",
              "  background-color: #d9e7f5;\n",
              "  color: #000000;\n",
              "}\n",
              "#T_c5aa4_row1_col4, #T_c5aa4_row3_col0, #T_c5aa4_row3_col5, #T_c5aa4_row4_col1, #T_c5aa4_row5_col2, #T_c5aa4_row5_col3 {\n",
              "  background-color: #f7fbff;\n",
              "  color: #000000;\n",
              "}\n",
              "#T_c5aa4_row1_col5, #T_c5aa4_row3_col4 {\n",
              "  background-color: #e4eff9;\n",
              "  color: #000000;\n",
              "}\n",
              "#T_c5aa4_row2_col0 {\n",
              "  background-color: #d3e4f3;\n",
              "  color: #000000;\n",
              "}\n",
              "#T_c5aa4_row2_col1 {\n",
              "  background-color: #7ab6d9;\n",
              "  color: #000000;\n",
              "}\n",
              "#T_c5aa4_row2_col3 {\n",
              "  background-color: #b2d2e8;\n",
              "  color: #000000;\n",
              "}\n",
              "#T_c5aa4_row2_col4, #T_c5aa4_row2_col5 {\n",
              "  background-color: #f3f8fe;\n",
              "  color: #000000;\n",
              "}\n",
              "#T_c5aa4_row3_col1 {\n",
              "  background-color: #dfebf7;\n",
              "  color: #000000;\n",
              "}\n",
              "#T_c5aa4_row3_col2 {\n",
              "  background-color: #b7d4ea;\n",
              "  color: #000000;\n",
              "}\n",
              "#T_c5aa4_row4_col0 {\n",
              "  background-color: #f6faff;\n",
              "  color: #000000;\n",
              "}\n",
              "#T_c5aa4_row4_col2 {\n",
              "  background-color: #f0f6fd;\n",
              "  color: #000000;\n",
              "}\n",
              "#T_c5aa4_row4_col3 {\n",
              "  background-color: #ddeaf7;\n",
              "  color: #000000;\n",
              "}\n",
              "#T_c5aa4_row4_col5 {\n",
              "  background-color: #d6e5f4;\n",
              "  color: #000000;\n",
              "}\n",
              "#T_c5aa4_row5_col0 {\n",
              "  background-color: #e9f2fa;\n",
              "  color: #000000;\n",
              "}\n",
              "#T_c5aa4_row5_col1 {\n",
              "  background-color: #ebf3fb;\n",
              "  color: #000000;\n",
              "}\n",
              "#T_c5aa4_row5_col4 {\n",
              "  background-color: #dce9f6;\n",
              "  color: #000000;\n",
              "}\n",
              "</style>\n",
              "<table id=\"T_c5aa4_\" class=\"dataframe\">\n",
              "  <thead>\n",
              "    <tr>\n",
              "      <th class=\"blank level0\" >&nbsp;</th>\n",
              "      <th class=\"col_heading level0 col0\" >star1</th>\n",
              "      <th class=\"col_heading level0 col1\" >star2</th>\n",
              "      <th class=\"col_heading level0 col2\" >star3</th>\n",
              "      <th class=\"col_heading level0 col3\" >star4</th>\n",
              "      <th class=\"col_heading level0 col4\" >star5</th>\n",
              "      <th class=\"col_heading level0 col5\" >pages</th>\n",
              "    </tr>\n",
              "  </thead>\n",
              "  <tbody>\n",
              "    <tr>\n",
              "      <th id=\"T_c5aa4_level0_row0\" class=\"row_heading level0 row0\" >star1</th>\n",
              "      <td id=\"T_c5aa4_row0_col0\" class=\"data row0 col0\" >1.000000</td>\n",
              "      <td id=\"T_c5aa4_row0_col1\" class=\"data row0 col1\" >0.367137</td>\n",
              "      <td id=\"T_c5aa4_row0_col2\" class=\"data row0 col2\" >0.212710</td>\n",
              "      <td id=\"T_c5aa4_row0_col3\" class=\"data row0 col3\" >0.038144</td>\n",
              "      <td id=\"T_c5aa4_row0_col4\" class=\"data row0 col4\" >0.043879</td>\n",
              "      <td id=\"T_c5aa4_row0_col5\" class=\"data row0 col5\" >0.107520</td>\n",
              "    </tr>\n",
              "    <tr>\n",
              "      <th id=\"T_c5aa4_level0_row1\" class=\"row_heading level0 row1\" >star2</th>\n",
              "      <td id=\"T_c5aa4_row1_col0\" class=\"data row1 col0\" >0.367137</td>\n",
              "      <td id=\"T_c5aa4_row1_col1\" class=\"data row1 col1\" >1.000000</td>\n",
              "      <td id=\"T_c5aa4_row1_col2\" class=\"data row1 col2\" >0.458149</td>\n",
              "      <td id=\"T_c5aa4_row1_col3\" class=\"data row1 col3\" >0.117888</td>\n",
              "      <td id=\"T_c5aa4_row1_col4\" class=\"data row1 col4\" >-0.005893</td>\n",
              "      <td id=\"T_c5aa4_row1_col5\" class=\"data row1 col5\" >0.056105</td>\n",
              "    </tr>\n",
              "    <tr>\n",
              "      <th id=\"T_c5aa4_level0_row2\" class=\"row_heading level0 row2\" >star3</th>\n",
              "      <td id=\"T_c5aa4_row2_col0\" class=\"data row2 col0\" >0.212710</td>\n",
              "      <td id=\"T_c5aa4_row2_col1\" class=\"data row2 col1\" >0.458149</td>\n",
              "      <td id=\"T_c5aa4_row2_col2\" class=\"data row2 col2\" >1.000000</td>\n",
              "      <td id=\"T_c5aa4_row2_col3\" class=\"data row2 col3\" >0.282943</td>\n",
              "      <td id=\"T_c5aa4_row2_col4\" class=\"data row2 col4\" >0.013784</td>\n",
              "      <td id=\"T_c5aa4_row2_col5\" class=\"data row2 col5\" >-0.022569</td>\n",
              "    </tr>\n",
              "    <tr>\n",
              "      <th id=\"T_c5aa4_level0_row3\" class=\"row_heading level0 row3\" >star4</th>\n",
              "      <td id=\"T_c5aa4_row3_col0\" class=\"data row3 col0\" >0.038144</td>\n",
              "      <td id=\"T_c5aa4_row3_col1\" class=\"data row3 col1\" >0.117888</td>\n",
              "      <td id=\"T_c5aa4_row3_col2\" class=\"data row3 col2\" >0.282943</td>\n",
              "      <td id=\"T_c5aa4_row3_col3\" class=\"data row3 col3\" >1.000000</td>\n",
              "      <td id=\"T_c5aa4_row3_col4\" class=\"data row3 col4\" >0.092087</td>\n",
              "      <td id=\"T_c5aa4_row3_col5\" class=\"data row3 col5\" >-0.044698</td>\n",
              "    </tr>\n",
              "    <tr>\n",
              "      <th id=\"T_c5aa4_level0_row4\" class=\"row_heading level0 row4\" >star5</th>\n",
              "      <td id=\"T_c5aa4_row4_col0\" class=\"data row4 col0\" >0.043879</td>\n",
              "      <td id=\"T_c5aa4_row4_col1\" class=\"data row4 col1\" >-0.005893</td>\n",
              "      <td id=\"T_c5aa4_row4_col2\" class=\"data row4 col2\" >0.013784</td>\n",
              "      <td id=\"T_c5aa4_row4_col3\" class=\"data row4 col3\" >0.092087</td>\n",
              "      <td id=\"T_c5aa4_row4_col4\" class=\"data row4 col4\" >1.000000</td>\n",
              "      <td id=\"T_c5aa4_row4_col5\" class=\"data row4 col5\" >0.134769</td>\n",
              "    </tr>\n",
              "    <tr>\n",
              "      <th id=\"T_c5aa4_level0_row5\" class=\"row_heading level0 row5\" >pages</th>\n",
              "      <td id=\"T_c5aa4_row5_col0\" class=\"data row5 col0\" >0.107520</td>\n",
              "      <td id=\"T_c5aa4_row5_col1\" class=\"data row5 col1\" >0.056105</td>\n",
              "      <td id=\"T_c5aa4_row5_col2\" class=\"data row5 col2\" >-0.022569</td>\n",
              "      <td id=\"T_c5aa4_row5_col3\" class=\"data row5 col3\" >-0.044698</td>\n",
              "      <td id=\"T_c5aa4_row5_col4\" class=\"data row5 col4\" >0.134769</td>\n",
              "      <td id=\"T_c5aa4_row5_col5\" class=\"data row5 col5\" >1.000000</td>\n",
              "    </tr>\n",
              "  </tbody>\n",
              "</table>\n"
            ]
          },
          "metadata": {},
          "execution_count": 43
        }
      ]
    },
    {
      "cell_type": "markdown",
      "source": [
        "###9.2.3 Classificações###"
      ],
      "metadata": {
        "id": "LwK0kbT4ub4X"
      }
    },
    {
      "cell_type": "code",
      "source": [
        "ax=sns.distplot(new_data.query('star5<1')['star5'])\n",
        "ax.figure.set_size_inches(12,6)\n",
        "ax"
      ],
      "metadata": {
        "colab": {
          "base_uri": "https://localhost:8080/"
        },
        "id": "DuVYfgilNOer",
        "outputId": "f9ca7d14-ac64-4afe-9a30-32a15f7fe1c0"
      },
      "execution_count": null,
      "outputs": [
        {
          "output_type": "stream",
          "name": "stderr",
          "text": [
            "/usr/local/lib/python3.7/dist-packages/seaborn/distributions.py:2619: FutureWarning:\n",
            "\n",
            "`distplot` is a deprecated function and will be removed in a future version. Please adapt your code to use either `displot` (a figure-level function with similar flexibility) or `histplot` (an axes-level function for histograms).\n",
            "\n"
          ]
        },
        {
          "output_type": "execute_result",
          "data": {
            "text/plain": [
              "<matplotlib.axes._subplots.AxesSubplot at 0x7ff853a9f8d0>"
            ]
          },
          "metadata": {},
          "execution_count": 44
        },
        {
          "output_type": "display_data",
          "data": {
            "text/plain": [
              "<Figure size 864x432 with 1 Axes>"
            ],
            "image/png": "[encoded data removed]"
          },
          "metadata": {
            "needs_background": "light"
          }
        }
      ]
    },
    {
      "cell_type": "code",
      "source": [
        "moda=sts.mode(new_data['star5'])\n",
        "mediana=sts.median(new_data['star5'])\n",
        "media=pd.Series.mean(new_data['star5'])\n",
        "print(f'mediana:{mediana}\\nmédia:{media}\\nmoda:{moda}')"
      ],
      "metadata": {
        "colab": {
          "base_uri": "https://localhost:8080/"
        },
        "id": "68o1JbYYNimT",
        "outputId": "85805f72-cc22-4a1b-ae46-3a10da71e42c"
      },
      "execution_count": null,
      "outputs": [
        {
          "output_type": "stream",
          "name": "stdout",
          "text": [
            "mediana:0.7\n",
            "média:0.6256025369978859\n",
            "moda:0.0\n"
          ]
        }
      ]
    },
    {
      "cell_type": "code",
      "source": [
        "ax=sns.distplot(new_data.query('star4<1')['star4'])\n",
        "ax.figure.set_size_inches(12,6)\n",
        "ax"
      ],
      "metadata": {
        "colab": {
          "base_uri": "https://localhost:8080/"
        },
        "id": "2WRh6lhzWssW",
        "outputId": "d12a1650-a3cb-4b75-a258-8b854ad57d0c"
      },
      "execution_count": null,
      "outputs": [
        {
          "output_type": "stream",
          "name": "stderr",
          "text": [
            "/usr/local/lib/python3.7/dist-packages/seaborn/distributions.py:2619: FutureWarning:\n",
            "\n",
            "`distplot` is a deprecated function and will be removed in a future version. Please adapt your code to use either `displot` (a figure-level function with similar flexibility) or `histplot` (an axes-level function for histograms).\n",
            "\n"
          ]
        },
        {
          "output_type": "execute_result",
          "data": {
            "text/plain": [
              "<matplotlib.axes._subplots.AxesSubplot at 0x7ff85398d4d0>"
            ]
          },
          "metadata": {},
          "execution_count": 46
        },
        {
          "output_type": "display_data",
          "data": {
            "text/plain": [
              "<Figure size 864x432 with 1 Axes>"
            ],
            "image/png": "[encoded data removed]"
          },
          "metadata": {
            "needs_background": "light"
          }
        }
      ]
    },
    {
      "cell_type": "code",
      "source": [
        "moda=sts.mode(new_data['star4'])\n",
        "mediana=sts.median(new_data['star4'])\n",
        "media=pd.Series.mean(new_data['star4'])\n",
        "print(f'mediana:{mediana}\\nmédia:{media}\\nmoda:{moda}')"
      ],
      "metadata": {
        "colab": {
          "base_uri": "https://localhost:8080/"
        },
        "id": "tOtVbny6W2Y-",
        "outputId": "e59427bc-4521-491a-d868-01adb0cb4c28"
      },
      "execution_count": null,
      "outputs": [
        {
          "output_type": "stream",
          "name": "stdout",
          "text": [
            "mediana:0.14\n",
            "média:0.14083509513742073\n",
            "moda:0.0\n"
          ]
        }
      ]
    },
    {
      "cell_type": "code",
      "source": [
        "ax=sns.distplot(new_data.query('star3<1')['star3'])\n",
        "ax.figure.set_size_inches(12,6)\n",
        "ax"
      ],
      "metadata": {
        "colab": {
          "base_uri": "https://localhost:8080/"
        },
        "id": "8OjnUh2aW2lu",
        "outputId": "ad51ffa7-8c3c-4b34-813e-e03540e518be"
      },
      "execution_count": null,
      "outputs": [
        {
          "output_type": "stream",
          "name": "stderr",
          "text": [
            "/usr/local/lib/python3.7/dist-packages/seaborn/distributions.py:2619: FutureWarning:\n",
            "\n",
            "`distplot` is a deprecated function and will be removed in a future version. Please adapt your code to use either `displot` (a figure-level function with similar flexibility) or `histplot` (an axes-level function for histograms).\n",
            "\n"
          ]
        },
        {
          "output_type": "execute_result",
          "data": {
            "text/plain": [
              "<matplotlib.axes._subplots.AxesSubplot at 0x7ff8538638d0>"
            ]
          },
          "metadata": {},
          "execution_count": 48
        },
        {
          "output_type": "display_data",
          "data": {
            "text/plain": [
              "<Figure size 864x432 with 1 Axes>"
            ],
            "image/png": "[encoded data removed]"
          },
          "metadata": {
            "needs_background": "light"
          }
        }
      ]
    },
    {
      "cell_type": "code",
      "source": [
        "moda=sts.mode(new_data['star3'])\n",
        "mediana=sts.median(new_data['star3'])\n",
        "media=pd.Series.mean(new_data['star3'])\n",
        "print(f'mediana:{mediana}\\nmédia:{media}\\nmoda:{moda}')"
      ],
      "metadata": {
        "colab": {
          "base_uri": "https://localhost:8080/"
        },
        "id": "svSk9GggW22e",
        "outputId": "a372ae76-6259-4b1c-93a7-e6a817d6fda4"
      },
      "execution_count": null,
      "outputs": [
        {
          "output_type": "stream",
          "name": "stdout",
          "text": [
            "mediana:0.05\n",
            "média:0.0581923890063425\n",
            "moda:0.0\n"
          ]
        }
      ]
    },
    {
      "cell_type": "code",
      "source": [
        "ax=sns.distplot(new_data.query('star2<1')['star2'])\n",
        "ax.figure.set_size_inches(12,6)\n",
        "ax"
      ],
      "metadata": {
        "colab": {
          "base_uri": "https://localhost:8080/"
        },
        "id": "T_LEUc9pW3EW",
        "outputId": "fd000185-8ee7-4f20-ec46-9b65ad79bb20"
      },
      "execution_count": null,
      "outputs": [
        {
          "output_type": "stream",
          "name": "stderr",
          "text": [
            "/usr/local/lib/python3.7/dist-packages/seaborn/distributions.py:2619: FutureWarning:\n",
            "\n",
            "`distplot` is a deprecated function and will be removed in a future version. Please adapt your code to use either `displot` (a figure-level function with similar flexibility) or `histplot` (an axes-level function for histograms).\n",
            "\n"
          ]
        },
        {
          "output_type": "execute_result",
          "data": {
            "text/plain": [
              "<matplotlib.axes._subplots.AxesSubplot at 0x7ff8537a0c10>"
            ]
          },
          "metadata": {},
          "execution_count": 50
        },
        {
          "output_type": "display_data",
          "data": {
            "text/plain": [
              "<Figure size 864x432 with 1 Axes>"
            ],
            "image/png": "[encoded data removed]"
          },
          "metadata": {
            "needs_background": "light"
          }
        }
      ]
    },
    {
      "cell_type": "code",
      "source": [
        "moda=sts.mode(new_data['star2'])\n",
        "mediana=sts.median(new_data['star2'])\n",
        "media=pd.Series.mean(new_data['star2'])\n",
        "print(f'mediana:{mediana}\\nmédia:{media}\\nmoda:{moda}')"
      ],
      "metadata": {
        "colab": {
          "base_uri": "https://localhost:8080/"
        },
        "id": "Znpy8YS5W3Qe",
        "outputId": "3d87cc05-1165-453d-b27b-46900aa8be17"
      },
      "execution_count": null,
      "outputs": [
        {
          "output_type": "stream",
          "name": "stdout",
          "text": [
            "mediana:0.01\n",
            "média:0.02657505285412262\n",
            "moda:0.0\n"
          ]
        }
      ]
    },
    {
      "cell_type": "code",
      "source": [
        "ax=sns.distplot(new_data.query('star1<1')['star1'])\n",
        "ax.figure.set_size_inches(12,6)\n",
        "ax"
      ],
      "metadata": {
        "colab": {
          "base_uri": "https://localhost:8080/"
        },
        "id": "PyiC_UziXFR2",
        "outputId": "8f121d8b-e5b7-4e29-baa3-e13f3b81d4c8"
      },
      "execution_count": null,
      "outputs": [
        {
          "output_type": "stream",
          "name": "stderr",
          "text": [
            "/usr/local/lib/python3.7/dist-packages/seaborn/distributions.py:2619: FutureWarning:\n",
            "\n",
            "`distplot` is a deprecated function and will be removed in a future version. Please adapt your code to use either `displot` (a figure-level function with similar flexibility) or `histplot` (an axes-level function for histograms).\n",
            "\n"
          ]
        },
        {
          "output_type": "execute_result",
          "data": {
            "text/plain": [
              "<matplotlib.axes._subplots.AxesSubplot at 0x7ff8537a0310>"
            ]
          },
          "metadata": {},
          "execution_count": 52
        },
        {
          "output_type": "display_data",
          "data": {
            "text/plain": [
              "<Figure size 864x432 with 1 Axes>"
            ],
            "image/png": "[encoded data removed]"
          },
          "metadata": {
            "needs_background": "light"
          }
        }
      ]
    },
    {
      "cell_type": "code",
      "source": [
        "moda=sts.mode(new_data['star1'])\n",
        "mediana=sts.median(new_data['star1'])\n",
        "media=pd.Series.mean(new_data['star1'])\n",
        "print(f'mediana:{mediana}\\nmédia:{media}\\nmoda:{moda}')"
      ],
      "metadata": {
        "colab": {
          "base_uri": "https://localhost:8080/"
        },
        "id": "RYHXv3ouXFeu",
        "outputId": "3bebd310-bbe2-4dbc-f9a0-6abc9c7b51d0"
      },
      "execution_count": null,
      "outputs": [
        {
          "output_type": "stream",
          "name": "stdout",
          "text": [
            "mediana:0.0\n",
            "média:0.018731501057082454\n",
            "moda:0.0\n"
          ]
        }
      ]
    },
    {
      "cell_type": "markdown",
      "source": [
        "\"Data has a better idea\"\n",
        "\n",
        "**OBRIGADO PELA ATENÇÃO!**"
      ],
      "metadata": {
        "id": "UjyZxHczJh-y"
      }
    }
  ]
}